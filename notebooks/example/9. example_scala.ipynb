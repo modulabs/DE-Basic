{
 "cells": [
  {
   "cell_type": "code",
   "execution_count": 1,
   "id": "e70322a4-92fa-457c-ad11-9cfc33ec8682",
   "metadata": {},
   "outputs": [
    {
     "data": {
      "text/plain": [
       "Intitializing Scala interpreter ..."
      ]
     },
     "metadata": {},
     "output_type": "display_data"
    },
    {
     "data": {
      "text/plain": [
       "Spark Web UI available at http://8fe632226952:4042\n",
       "SparkContext available as 'sc' (version = 3.2.1, master = local[*], app id = local-1653614701138)\n",
       "SparkSession available as 'spark'\n"
      ]
     },
     "metadata": {},
     "output_type": "display_data"
    },
    {
     "data": {
      "text/plain": [
       "res0: org.apache.spark.sql.SparkSession = org.apache.spark.sql.SparkSession@4d71972e\n"
      ]
     },
     "execution_count": 1,
     "metadata": {},
     "output_type": "execute_result"
    }
   ],
   "source": [
    "spark"
   ]
  },
  {
   "cell_type": "code",
   "execution_count": 3,
   "id": "28fe24e4-8749-4a59-9e6e-93261a8964d5",
   "metadata": {},
   "outputs": [
    {
     "data": {
      "text/plain": [
       "res2: String =\n",
       "spark.app.id=local-1653614701138\n",
       "spark.app.name=spylon-kernel\n",
       "spark.app.startTime=1653614700374\n",
       "spark.driver.extraJavaOptions=-Dio.netty.tryReflectionSetAccessible=true\n",
       "spark.driver.host=8fe632226952\n",
       "spark.driver.port=45241\n",
       "spark.executor.extraJavaOptions=-Dio.netty.tryReflectionSetAccessible=true\n",
       "spark.executor.id=driver\n",
       "spark.master=local[*]\n",
       "spark.rdd.compress=True\n",
       "spark.repl.class.outputDir=/tmp/tmpo54gjvnd\n",
       "spark.repl.class.uri=spark://8fe632226952:45241/classes\n",
       "spark.serializer.objectStreamReset=100\n",
       "spark.submit.deployMode=client\n",
       "spark.submit.pyFiles=\n",
       "spark.ui.showConsoleProgress=true\n"
      ]
     },
     "execution_count": 3,
     "metadata": {},
     "output_type": "execute_result"
    }
   ],
   "source": [
    "sc.getConf.toDebugString"
   ]
  },
  {
   "cell_type": "code",
   "execution_count": 6,
   "id": "af19bfbb-51c9-4ba4-baa2-85fe2604a641",
   "metadata": {},
   "outputs": [
    {
     "data": {
      "text/plain": [
       "res5: scala.collection.immutable.Map[String,String] = Map(spark.sql.warehouse.dir -> file:/home/jovyan/work/example/spark-warehouse, spark.executor.extraJavaOptions -> -Dio.netty.tryReflectionSetAccessible=true, spark.driver.host -> 8fe632226952, spark.serializer.objectStreamReset -> 100, spark.driver.port -> 45241, spark.rdd.compress -> True, spark.repl.class.uri -> spark://8fe632226952:45241/classes, spark.repl.class.outputDir -> /tmp/tmpo54gjvnd, spark.app.name -> spylon-kernel, spark.submit.pyFiles -> \"\", spark.ui.showConsoleProgress -> true, spark.app.startTime -> 1653614700374, spark.executor.id -> driver, spark.driver.extraJavaOptions -> -Dio.netty.tryReflectionSetAccessible=true, spark.submit.deployMode -> client, spark.master -> local[*], spark.app.id -> local-1653614701138)\n"
      ]
     },
     "execution_count": 6,
     "metadata": {},
     "output_type": "execute_result"
    }
   ],
   "source": [
    "spark.sqlContext.getAllConfs "
   ]
  },
  {
   "cell_type": "code",
   "execution_count": 14,
   "id": "f5ae0d5a-0c3d-4742-842a-d407d3d769c2",
   "metadata": {},
   "outputs": [
    {
     "data": {
      "text/plain": [
       "sqlcontext: org.apache.spark.sql.SQLContext = org.apache.spark.sql.SQLContext@53a3e677\n",
       "res13: scala.collection.immutable.Map[String,String] = Map(spark.sql.warehouse.dir -> file:/home/jovyan/work/example/spark-warehouse, spark.executor.extraJavaOptions -> -Dio.netty.tryReflectionSetAccessible=true, spark.driver.host -> 8fe632226952, spark.serializer.objectStreamReset -> 100, spark.driver.port -> 45241, spark.rdd.compress -> True, spark.repl.class.uri -> spark://8fe632226952:45241/classes, spark.repl.class.outputDir -> /tmp/tmpo54gjvnd, spark.app.name -> spylon-kernel, spark.submit.pyFiles -> \"\", spark.ui.showConsoleProgress -> true, spark.app.startTime -> 1653614700374, spark.executor.id -> driver, spark.driver.extraJavaOptions -> -Dio.netty.tryReflectionSetAccessible=true, spark.submit...\n"
      ]
     },
     "execution_count": 14,
     "metadata": {},
     "output_type": "execute_result"
    }
   ],
   "source": [
    "val sqlcontext = spark.sqlContext\n",
    "sqlcontext.getAllConfs"
   ]
  },
  {
   "cell_type": "code",
   "execution_count": 15,
   "id": "83c6be00-7d6e-4c36-8d0d-6d2d08da915a",
   "metadata": {},
   "outputs": [
    {
     "data": {
      "text/plain": [
       "res14: Option[String] = None\n"
      ]
     },
     "execution_count": 15,
     "metadata": {},
     "output_type": "execute_result"
    }
   ],
   "source": [
    "spark.sqlContext.getAllConfs.get(\"parquet.enable.dictionary\")"
   ]
  },
  {
   "cell_type": "code",
   "execution_count": 16,
   "id": "c4924e64-c716-4769-97b7-3224973f0d0f",
   "metadata": {},
   "outputs": [
    {
     "name": "stdout",
     "output_type": "stream",
     "text": [
      "(spark.sql.warehouse.dir,file:/home/jovyan/work/example/spark-warehouse)\n",
      "(spark.executor.extraJavaOptions,-Dio.netty.tryReflectionSetAccessible=true)\n",
      "(spark.driver.host,8fe632226952)\n",
      "(spark.serializer.objectStreamReset,100)\n",
      "(spark.driver.port,45241)\n",
      "(spark.rdd.compress,True)\n",
      "(spark.repl.class.uri,spark://8fe632226952:45241/classes)\n",
      "(spark.repl.class.outputDir,/tmp/tmpo54gjvnd)\n",
      "(spark.app.name,spylon-kernel)\n",
      "(spark.submit.pyFiles,)\n",
      "(spark.ui.showConsoleProgress,true)\n",
      "(spark.app.startTime,1653614700374)\n",
      "(spark.executor.id,driver)\n",
      "(spark.driver.extraJavaOptions,-Dio.netty.tryReflectionSetAccessible=true)\n",
      "(spark.submit.deployMode,client)\n",
      "(spark.master,local[*])\n",
      "(spark.app.id,local-1653614701138)\n"
     ]
    }
   ],
   "source": [
    "spark.sqlContext.getAllConfs foreach (x => println(x))"
   ]
  },
  {
   "cell_type": "code",
   "execution_count": null,
   "id": "0abd7913-4158-4279-8262-ec9303f6d8d7",
   "metadata": {},
   "outputs": [],
   "source": []
  }
 ],
 "metadata": {
  "kernelspec": {
   "display_name": "spylon-kernel",
   "language": "scala",
   "name": "spylon-kernel"
  },
  "language_info": {
   "codemirror_mode": "text/x-scala",
   "file_extension": ".scala",
   "help_links": [
    {
     "text": "MetaKernel Magics",
     "url": "https://metakernel.readthedocs.io/en/latest/source/README.html"
    }
   ],
   "mimetype": "text/x-scala",
   "name": "scala",
   "pygments_lexer": "scala",
   "version": "0.4.1"
  }
 },
 "nbformat": 4,
 "nbformat_minor": 5
}
