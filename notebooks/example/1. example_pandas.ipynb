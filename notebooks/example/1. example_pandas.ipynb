{
 "cells": [
  {
   "cell_type": "code",
   "execution_count": 1,
   "id": "0e6b07e5-78ed-4b07-97ac-f4422db4b65a",
   "metadata": {},
   "outputs": [],
   "source": [
    "import numpy as np\n",
    "import pandas as pd"
   ]
  },
  {
   "cell_type": "code",
   "execution_count": 2,
   "id": "e9da69bd-995d-4798-acc6-922c4b990f84",
   "metadata": {},
   "outputs": [
    {
     "data": {
      "text/plain": [
       "0    1.0\n",
       "1    3.0\n",
       "2    5.0\n",
       "3    NaN\n",
       "4    6.0\n",
       "5    8.0\n",
       "dtype: float64"
      ]
     },
     "execution_count": 2,
     "metadata": {},
     "output_type": "execute_result"
    }
   ],
   "source": [
    "s = pd.Series([1,3,5,np.nan,6,8])\n",
    "s"
   ]
  },
  {
   "cell_type": "code",
   "execution_count": 21,
   "id": "72cf627c-28c2-42fd-8f6f-5b2033c90fe4",
   "metadata": {},
   "outputs": [
    {
     "name": "stdout",
     "output_type": "stream",
     "text": [
      "a    3\n",
      "b    5\n",
      "c    7\n",
      "d    9\n",
      "dtype: int64\n",
      "[3 5 7 9] Index(['a', 'b', 'c', 'd'], dtype='object')\n",
      "7\n"
     ]
    }
   ],
   "source": [
    "# 타임 기준으로 데이터를 만들어내는 과정에는 대게 ts 가 하나의 list 형태로 만들어지기 마련 <- 이러한 접근이 용이한 라이브러리 Series\n",
    "series = pd.Series([3, 5, 7, 9], index=['a', 'b', 'c', 'd'])\n",
    "print(series)\n",
    "\n",
    "print(series.values, series.index)\n",
    "# print(series['c'])"
   ]
  },
  {
   "cell_type": "code",
   "execution_count": 26,
   "id": "ca30978d-e6c1-4dda-a554-741d1cbcda61",
   "metadata": {},
   "outputs": [
    {
     "name": "stdout",
     "output_type": "stream",
     "text": [
      "   col_s  col_t\n",
      "a      3      4\n",
      "b      5      5\n",
      "c      7      6\n",
      "d      9      7\n",
      "[[3 4]\n",
      " [5 5]\n",
      " [7 6]\n",
      " [9 7]]\n",
      "Index(['a', 'b', 'c', 'd'], dtype='object')\n",
      "Index(['col_s', 'col_t'], dtype='object')\n",
      "4\n"
     ]
    }
   ],
   "source": [
    "# 데이터를 저장하고 직관적으로 접근하고 다루기 위해서는 테이블 형태가 편하고, 다루기 쉽다 <- 이러한 접근을 용이하게 하는 라이브러리 DataFrame (spark 과 유사)\n",
    "dframe = pd.DataFrame({'col_s': series, 'col_t': pd.Series([4, 5, 6, 7], index=['a', 'b', 'c', 'd'])})\n",
    "print(dframe)\n",
    "\n",
    "print(\"{}\\n{}\\n{}\".format(dframe.values, dframe.index, dframe.columns))\n",
    "print(dframe['col_t']['a'])"
   ]
  },
  {
   "cell_type": "code",
   "execution_count": 3,
   "id": "a14c7c9f-35a2-4139-a724-c9a25208a1ed",
   "metadata": {},
   "outputs": [
    {
     "data": {
      "text/plain": [
       "DatetimeIndex(['2022-05-01', '2022-05-02', '2022-05-03', '2022-05-04',\n",
       "               '2022-05-05', '2022-05-06'],\n",
       "              dtype='datetime64[ns]', freq='D')"
      ]
     },
     "execution_count": 3,
     "metadata": {},
     "output_type": "execute_result"
    }
   ],
   "source": [
    "dates = pd.date_range(\"20220501\", periods=6)\n",
    "dates"
   ]
  },
  {
   "cell_type": "code",
   "execution_count": 4,
   "id": "913e43cd-cc78-4acc-9dc7-50148c757e4f",
   "metadata": {},
   "outputs": [
    {
     "data": {
      "text/html": [
       "<div>\n",
       "<style scoped>\n",
       "    .dataframe tbody tr th:only-of-type {\n",
       "        vertical-align: middle;\n",
       "    }\n",
       "\n",
       "    .dataframe tbody tr th {\n",
       "        vertical-align: top;\n",
       "    }\n",
       "\n",
       "    .dataframe thead th {\n",
       "        text-align: right;\n",
       "    }\n",
       "</style>\n",
       "<table border=\"1\" class=\"dataframe\">\n",
       "  <thead>\n",
       "    <tr style=\"text-align: right;\">\n",
       "      <th></th>\n",
       "      <th>A</th>\n",
       "      <th>B</th>\n",
       "      <th>C</th>\n",
       "      <th>D</th>\n",
       "    </tr>\n",
       "  </thead>\n",
       "  <tbody>\n",
       "    <tr>\n",
       "      <th>2022-05-01</th>\n",
       "      <td>-0.935988</td>\n",
       "      <td>-0.082855</td>\n",
       "      <td>0.725170</td>\n",
       "      <td>0.844055</td>\n",
       "    </tr>\n",
       "    <tr>\n",
       "      <th>2022-05-02</th>\n",
       "      <td>-0.106294</td>\n",
       "      <td>-0.612459</td>\n",
       "      <td>-0.595975</td>\n",
       "      <td>-0.760415</td>\n",
       "    </tr>\n",
       "    <tr>\n",
       "      <th>2022-05-03</th>\n",
       "      <td>1.051846</td>\n",
       "      <td>0.619590</td>\n",
       "      <td>0.436405</td>\n",
       "      <td>1.293391</td>\n",
       "    </tr>\n",
       "    <tr>\n",
       "      <th>2022-05-04</th>\n",
       "      <td>0.608124</td>\n",
       "      <td>1.382357</td>\n",
       "      <td>-0.327649</td>\n",
       "      <td>-0.037140</td>\n",
       "    </tr>\n",
       "    <tr>\n",
       "      <th>2022-05-05</th>\n",
       "      <td>-0.953106</td>\n",
       "      <td>-1.651043</td>\n",
       "      <td>0.662254</td>\n",
       "      <td>1.090302</td>\n",
       "    </tr>\n",
       "    <tr>\n",
       "      <th>2022-05-06</th>\n",
       "      <td>0.191225</td>\n",
       "      <td>0.915523</td>\n",
       "      <td>1.217761</td>\n",
       "      <td>1.154670</td>\n",
       "    </tr>\n",
       "  </tbody>\n",
       "</table>\n",
       "</div>"
      ],
      "text/plain": [
       "                   A         B         C         D\n",
       "2022-05-01 -0.935988 -0.082855  0.725170  0.844055\n",
       "2022-05-02 -0.106294 -0.612459 -0.595975 -0.760415\n",
       "2022-05-03  1.051846  0.619590  0.436405  1.293391\n",
       "2022-05-04  0.608124  1.382357 -0.327649 -0.037140\n",
       "2022-05-05 -0.953106 -1.651043  0.662254  1.090302\n",
       "2022-05-06  0.191225  0.915523  1.217761  1.154670"
      ]
     },
     "execution_count": 4,
     "metadata": {},
     "output_type": "execute_result"
    }
   ],
   "source": [
    "df = pd.DataFrame(np.random.randn(6, 4), index=dates, columns=list(\"ABCD\"))\n",
    "df"
   ]
  },
  {
   "cell_type": "markdown",
   "id": "5241190e-c832-4e23-b0a0-db8d22cbb156",
   "metadata": {},
   "source": [
    "#### 시리즈 데이터를 모아서 데이터프레임을 만든다는 단순한 규칙 하나를 알게 됨\n",
    "```json\n",
    "DataFrameA = { ColA : SeriesA, ColB : SeriesB }\n",
    "```\n",
    "\n",
    "> 공부하던 와중에 마침 최근에 프로젝트에 적용하면 좋겠다는 사실을 깨달음\n"
   ]
  },
  {
   "cell_type": "code",
   "execution_count": null,
   "id": "3a86b276-7df4-43e4-9ab2-2b7dc0c64c92",
   "metadata": {},
   "outputs": [],
   "source": []
  }
 ],
 "metadata": {
  "kernelspec": {
   "display_name": "Python 3 (ipykernel)",
   "language": "python",
   "name": "python3"
  },
  "language_info": {
   "codemirror_mode": {
    "name": "ipython",
    "version": 3
   },
   "file_extension": ".py",
   "mimetype": "text/x-python",
   "name": "python",
   "nbconvert_exporter": "python",
   "pygments_lexer": "ipython3",
   "version": "3.9.12"
  }
 },
 "nbformat": 4,
 "nbformat_minor": 5
}
