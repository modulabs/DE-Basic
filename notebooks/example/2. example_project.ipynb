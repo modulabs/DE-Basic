{
 "cells": [
  {
   "cell_type": "markdown",
   "id": "a46b190f-947a-4e79-9f49-bee44ba0f332",
   "metadata": {
    "jp-MarkdownHeadingCollapsed": true,
    "tags": []
   },
   "source": [
    "## 목표 : 빅마마 게임별 콜렉션별 특정 지표를 하이브 테이블로 제공하는 것\n",
    "\n",
    "### 현황\n",
    "* 모든 모바일 게임의 WAU (Weekly Active User) 지표를 서비스개발팀에서 일별 지표로 사용\n",
    "* 기존 방식은 일별 BigMama 작업은 Spark Parquet 결과를 Spark Mongo Export 통해서 적재\n",
    "  - Mongo Hadoop Connector 통해서 Hive 테이블 생성 활용하는 상황\n",
    "* Mongo Hadoop Connector 가 MongoDB 버전이 올라가면서 사용할 수 없게 되는 상황\n",
    "  - 모든 게임에 대해 WAU 작업만 매일 distcp + hive 작업을 생성해 주었고, 운영 중\n",
    "  - MongoDB 작업은 수집기술팀에서, Hive 테이블 생성은 서비스개발팀에서 빅브라더를 통해 운영 중\n",
    "\n",
    "<br>\n",
    "\n",
    "### 이슈\n",
    "* 미처 MAU 가 나오지 않는다는 사실이 최근에 리포팅, 기존에는 사용했던 지표\n",
    "* 모든 게임에 대한 MAU (Monthly Active User) 까지 제공이 필요한 상황\n",
    "* 단, 데이터서비스개발팀이 mongodb 에 직접 접근할 인터페이스가 없으며\n",
    "* 외부 조직이 mongodb 에 직접 접근하는 것도 장애 혹은 보안적인 면에서 바람직하지도 않음\n",
    "\n",
    "### 환경\n",
    "* Hadoop 클러스터는 G2 전환 중이며, 별도로 운영 되고 있는 NCMC 하둡 클러스터입니다\n",
    "* MongoDB 클러스터는 용량문제가 있어, 게임 별로 ncmc2, ncmc3 로 분리되어 운영되고 있습니다"
   ]
  },
  {
   "cell_type": "code",
   "execution_count": null,
   "id": "f6244a30-7242-42c1-aafa-916497053b5c",
   "metadata": {},
   "outputs": [],
   "source": []
  },
  {
   "cell_type": "markdown",
   "id": "e90c346c-0f04-4d49-a083-76d85fc1837c",
   "metadata": {
    "tags": []
   },
   "source": [
    "\n",
    "#### 빅마마 게임별 콜렉션별 특정 지표를 하이브 테이블로 제공하는 것\n",
    "\n",
    "| 단계 | 상세 | 설명 |\n",
    "| --- | --- | --- |\n",
    "| AS-IS | (wau, mau(+), ?) * games -> distcp -> (hive * games) | 실제 정보는 몽고디비에 존재, 빅브라더 작업생성 관리부담 증가 |\n",
    "| TO-BE | mongo -> python -> pandas.dataframe -> pyarrow -> .parquet | 파라메터로 게임 목록을 받고 모든 게임 지표를 하나의 하이브 테이블로 제공 |\n"
   ]
  },
  {
   "cell_type": "markdown",
   "id": "06ea2c6c-7be4-4226-8cfb-0498454966d2",
   "metadata": {
    "tags": []
   },
   "source": [
    "\n",
    "### 모든 게임 지표가 종료된 이후 시점에 모든 게임을 한 번에 \n",
    "* 게임 별로 파라메터를 전달 받고, 모든 게임 지표를 동시에 수집\n",
    "* 모든 지표를 하나의 테이블로 제공하되, 게임 및 지표 코드 컬럼을 추가\n",
    "\n",
    "#### PR 과정에서 제안된 문제점 \n",
    "> 빅마마 지표 장애 발생 시에 지표 지연 및 장애 발생 가능성 제기\n",
    "\n",
    "- 게임 중에 하나라도 수집 실패하는 경우 성공한 게임은 지표가 지연되지 않도록 제공\n",
    "- 해당 작업은 하나만 있지만, 상태를 실패로 남겨서 운영자가 인지할 수 있도록 할 것\n",
    "- 빅마마 장애 복구 이후에 해당 작업을 복구하더라도 기존 지표에 영향이 없도록 덮어쓰도록 처리\n"
   ]
  },
  {
   "cell_type": "code",
   "execution_count": 28,
   "id": "bca114ef-36d1-4642-b5c1-48d8d82b9262",
   "metadata": {},
   "outputs": [
    {
     "data": {
      "text/plain": [
       "['20220523', '20220501']"
      ]
     },
     "execution_count": 28,
     "metadata": {},
     "output_type": "execute_result"
    }
   ],
   "source": [
    "columns = [\"game_cd\", \"dt\", \"type\", \"value\"]\n",
    "df = pd.DataFrame([\n",
    "    {\"game_cd\":\"lw\", \"dt\": \"20220523\", \"type\": \"wau\", \"au\": 1},\n",
    "    {\"game_cd\":\"lw\", \"dt\": \"20220501\", \"type\": \"mau\", \"au\": 2},\n",
    "])\n",
    "df.columns = columns\n",
    "df\n",
    "list(df[\"dt\"])"
   ]
  },
  {
   "cell_type": "code",
   "execution_count": 14,
   "id": "0e5e27f3-1af6-4c96-9979-23bf82536cc2",
   "metadata": {},
   "outputs": [
    {
     "data": {
      "text/plain": [
       "dt      object\n",
       "type    object\n",
       "xau      int64\n",
       "dtype: object"
      ]
     },
     "execution_count": 14,
     "metadata": {},
     "output_type": "execute_result"
    }
   ],
   "source": [
    "df.dtypes"
   ]
  },
  {
   "cell_type": "code",
   "execution_count": 20,
   "id": "e8032c74-f062-4168-b9eb-c47f0168d7c1",
   "metadata": {},
   "outputs": [
    {
     "data": {
      "text/html": [
       "<div>\n",
       "<style scoped>\n",
       "    .dataframe tbody tr th:only-of-type {\n",
       "        vertical-align: middle;\n",
       "    }\n",
       "\n",
       "    .dataframe tbody tr th {\n",
       "        vertical-align: top;\n",
       "    }\n",
       "\n",
       "    .dataframe thead th {\n",
       "        text-align: right;\n",
       "    }\n",
       "</style>\n",
       "<table border=\"1\" class=\"dataframe\">\n",
       "  <thead>\n",
       "    <tr style=\"text-align: right;\">\n",
       "      <th></th>\n",
       "      <th>game_cd</th>\n",
       "      <th>dt</th>\n",
       "      <th>type</th>\n",
       "      <th>value</th>\n",
       "    </tr>\n",
       "  </thead>\n",
       "  <tbody>\n",
       "    <tr>\n",
       "      <th>1</th>\n",
       "      <td>lw</td>\n",
       "      <td>20220501</td>\n",
       "      <td>mau</td>\n",
       "      <td>2</td>\n",
       "    </tr>\n",
       "  </tbody>\n",
       "</table>\n",
       "</div>"
      ],
      "text/plain": [
       "  game_cd        dt type  value\n",
       "1      lw  20220501  mau      2"
      ]
     },
     "execution_count": 20,
     "metadata": {},
     "output_type": "execute_result"
    }
   ],
   "source": [
    "df.query(\"value > 1\")"
   ]
  },
  {
   "cell_type": "code",
   "execution_count": 17,
   "id": "85a83759-0d0a-4473-a4d7-c291c89dd8fb",
   "metadata": {},
   "outputs": [
    {
     "data": {
      "text/html": [
       "<div>\n",
       "<style scoped>\n",
       "    .dataframe tbody tr th:only-of-type {\n",
       "        vertical-align: middle;\n",
       "    }\n",
       "\n",
       "    .dataframe tbody tr th {\n",
       "        vertical-align: top;\n",
       "    }\n",
       "\n",
       "    .dataframe thead th {\n",
       "        text-align: right;\n",
       "    }\n",
       "</style>\n",
       "<table border=\"1\" class=\"dataframe\">\n",
       "  <thead>\n",
       "    <tr style=\"text-align: right;\">\n",
       "      <th></th>\n",
       "      <th>dt</th>\n",
       "      <th>type</th>\n",
       "      <th>xau</th>\n",
       "    </tr>\n",
       "  </thead>\n",
       "  <tbody>\n",
       "    <tr>\n",
       "      <th>0</th>\n",
       "      <td>20220523</td>\n",
       "      <td>wau</td>\n",
       "      <td>1</td>\n",
       "    </tr>\n",
       "    <tr>\n",
       "      <th>1</th>\n",
       "      <td>20220501</td>\n",
       "      <td>mau</td>\n",
       "      <td>2</td>\n",
       "    </tr>\n",
       "  </tbody>\n",
       "</table>\n",
       "</div>"
      ],
      "text/plain": [
       "         dt type  xau\n",
       "0  20220523  wau    1\n",
       "1  20220501  mau    2"
      ]
     },
     "execution_count": 17,
     "metadata": {},
     "output_type": "execute_result"
    }
   ],
   "source": [
    "df.query(\"type.str.contains('au')\")"
   ]
  },
  {
   "cell_type": "markdown",
   "id": "8b2bb0e7-e0e8-407e-a327-4dbe6438f98c",
   "metadata": {},
   "source": [
    "\n",
    "#### 참고\n",
    "* main - https://git.ncsoft.net/projects/BIGMAMA/repos/bigmama-util-python/browse/scc_mobile_index_daily.py\n",
    "* biz - https://git.ncsoft.net/projects/BIGMAMA/repos/bigmama-util-python/browse/core/MobileActiveUserDaily.py\n",
    "* parquet - https://git.ncsoft.net/projects/BIGMAMA/repos/bigmama-util-python/browse/util/ParquetWriter.py\n",
    "* https://arrow.apache.org/docs/python/filesystems.html#hadoop-distributed-file-system-hdfs\n"
   ]
  }
 ],
 "metadata": {
  "kernelspec": {
   "display_name": "Python 3 (ipykernel)",
   "language": "python",
   "name": "python3"
  },
  "language_info": {
   "codemirror_mode": {
    "name": "ipython",
    "version": 3
   },
   "file_extension": ".py",
   "mimetype": "text/x-python",
   "name": "python",
   "nbconvert_exporter": "python",
   "pygments_lexer": "ipython3",
   "version": "3.9.12"
  }
 },
 "nbformat": 4,
 "nbformat_minor": 5
}
