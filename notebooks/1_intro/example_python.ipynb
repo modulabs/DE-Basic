{
 "cells": [
  {
   "cell_type": "code",
   "execution_count": 2,
   "id": "b69606b6-715f-434e-99f7-11b66409fca7",
   "metadata": {},
   "outputs": [
    {
     "name": "stdout",
     "output_type": "stream",
     "text": [
      "'파이썬'는 내가 좋아하는 단어입니다\n"
     ]
    }
   ],
   "source": [
    "# favorite.py\n",
    "favorite_words = [ \"파이썬\", \"봄\", \"가을\", \"프로그래밍\" ]\n",
    "word = \"파이썬\"\n",
    "\n",
    "if word in favorite_words:\n",
    "    print(\"'\" + word + \"'는 내가 좋아하는 단어입니다\")\n"
   ]
  },
  {
   "cell_type": "code",
   "execution_count": null,
   "id": "0e6b07e5-78ed-4b07-97ac-f4422db4b65a",
   "metadata": {},
   "outputs": [],
   "source": []
  }
 ],
 "metadata": {
  "kernelspec": {
   "display_name": "Python 3 (ipykernel)",
   "language": "python",
   "name": "python3"
  },
  "language_info": {
   "codemirror_mode": {
    "name": "ipython",
    "version": 3
   },
   "file_extension": ".py",
   "mimetype": "text/x-python",
   "name": "python",
   "nbconvert_exporter": "python",
   "pygments_lexer": "ipython3",
   "version": "3.9.12"
  }
 },
 "nbformat": 4,
 "nbformat_minor": 5
}
