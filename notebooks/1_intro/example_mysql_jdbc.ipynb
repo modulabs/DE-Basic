{
 "cells": [
  {
   "cell_type": "code",
   "execution_count": 47,
   "id": "2748dff0-df2f-428c-a42f-774fc9558b9a",
   "metadata": {},
   "outputs": [
    {
     "name": "stdout",
     "output_type": "stream",
     "text": [
      "[281] name: 통인시장, address 110-043 서울 종로구 통인동 10-3 \n",
      "[345] name: 타르틴, address 140-863 서울 용산구 이태원동 119-15 \n",
      "[383] name: 해랑, address 135-827 서울 강남구 논현동 183 \n",
      "[413] name: 인도로 가는 길 , address 110-300 서울 종로구 관훈동 198-36 \n",
      "[420] name: 올데이 브런치 카페 B Meal(비밀), address 140-893 서울 용산구 한남동 738-7 \n",
      "[428] name: 장이오, address 137-857 서울 서초구 서초동 1321-9 \n",
      "[429] name: 진진바라 (서울역점) , address 140-709 서울 용산구 동자동 12 \n",
      "[441] name: 울프강 스테이크 하우스, address 135-954 서울 강남구 청담동 89-6 \n",
      "[446] name: 난향, address 120-834 서울 서대문구 창천동 72-21 \n",
      "[463] name: 논현삼계탕(명동점), address 100-860 서울 중구 충무로2가 7-1 \n"
     ]
    }
   ],
   "source": [
    "import datetime\n",
    "import mysql.connector\n",
    "\n",
    "cnx = mysql.connector.connect(host='mysql', user='sqoop', password='sqoop', database='testdb')\n",
    "cursor = cnx.cursor()\n",
    "\n",
    "query = (\"SELECT id, name, address FROM seoul_popular_trip \"\n",
    "         \"WHERE id > 0 limit 10\")\n",
    "\n",
    "cursor.execute(query)\n",
    "\n",
    "for (id, name, address) in cursor:\n",
    "  print(\"[{}] name: {}, address {}\".format(id, name, address))\n",
    "\n",
    "cursor.close()\n",
    "cnx.close()"
   ]
  },
  {
   "cell_type": "code",
   "execution_count": null,
   "id": "86aada93-2e52-4342-ab73-0587f64163b7",
   "metadata": {},
   "outputs": [],
   "source": []
  }
 ],
 "metadata": {
  "kernelspec": {
   "display_name": "Python 3 (ipykernel)",
   "language": "python",
   "name": "python3"
  },
  "language_info": {
   "codemirror_mode": {
    "name": "ipython",
    "version": 3
   },
   "file_extension": ".py",
   "mimetype": "text/x-python",
   "name": "python",
   "nbconvert_exporter": "python",
   "pygments_lexer": "ipython3",
   "version": "3.9.12"
  }
 },
 "nbformat": 4,
 "nbformat_minor": 5
}
