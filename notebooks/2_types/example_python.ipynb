{
 "cells": [
  {
   "cell_type": "code",
   "execution_count": 32,
   "id": "de34a166-32dc-4bb1-8707-317d2fc99a77",
   "metadata": {},
   "outputs": [],
   "source": [
    "from decimal import Decimal\n",
    "from fractions import Fraction\n",
    "from pprint import pprint\n",
    "import sys, os, math, random, struct"
   ]
  },
  {
   "cell_type": "code",
   "execution_count": 2,
   "id": "99bf9575-ff63-4c6e-b4ac-011af3a3f4e6",
   "metadata": {},
   "outputs": [
    {
     "name": "stdout",
     "output_type": "stream",
     "text": [
      "1234 3.1415 (3+4j) 7 0 0\n",
      "hello world It's Python b'a\\x01c' spÄm\n",
      "[1, [2, 'three'], 4, 5] [0, 1, 2, 3, 4, 5, 6, 7, 8, 9]\n",
      "{'음식': '빵', '음료': '콜라'} {'시간': 10}\n",
      "(1, 1.5, 'hello', {}) ('튜', '플', '_', '아', '이', '템')\n",
      "11\n",
      "hello world\n",
      "{'a', 'b', 'c'} {'하나', '셋', '둘'} {1, 4, 'three', '둘'}\n",
      "True False\n"
     ]
    }
   ],
   "source": [
    "# 리터럴 (Literal)\n",
    "#* 객체를 생성하는 표현식을 말하며, 아래와 같이 파이썬의 특정 타입의 데이터를 생성하기 위해 사용한 표현식입니다\n",
    "#* 종종 상수(constant)를 의미하기도 하지만 여기서는 다른 의미로 사용되었습니다\n",
    "#* 파이썬에는 데이터 타입을 선언해 주지 않기 때문에 이렇게 표현식을 통해 데이터 타입을 결정합니다\n",
    "\n",
    "# 숫자\n",
    "num_1 = 1234\n",
    "num_2 = 3.1415\n",
    "num_3 = 3 + 4j\n",
    "num_4 = 0b111\n",
    "num_5 = Decimal()\n",
    "num_6 = Fraction()\n",
    "print(num_1, num_2, num_3, num_4, num_5, num_6)\n",
    "\n",
    "# 문자열\n",
    "str_1 = 'hello world'  # \n",
    "str_2 = \"It's Python\"\n",
    "str_3 = b'a\\x01c'\n",
    "str_4 = u'sp\\xc4m'\n",
    "print(str_1, str_2, str_3, str_4)\n",
    "\n",
    "# 리스트\n",
    "list_1 = [1, [2, 'three'], 4, 5]\n",
    "list_2 = list(range(10))\n",
    "print(list_1, list_2)\n",
    "\n",
    "\n",
    "# 딕셔너리 - 한글도 가능하지만, 가능하면 영문으로 작성\n",
    "dict_1 = {\"음식\":\"빵\", \"음료\":\"콜라\"}\n",
    "dict_2 = dict(시간=10)\n",
    "print(dict_1, dict_2)\n",
    "\n",
    "# 튜플\n",
    "tuple_1 = (1, 1.5, 'hello', {})\n",
    "tuple_2 = tuple('튜플_아이템')\n",
    "print(tuple_1, tuple_2)\n",
    "\n",
    "\n",
    "# 파일 - 파일은 열었다면 반드시 닫아 주어야 하지만, with 구문을 쓰시면 자동으로 닫힙니다\n",
    "with open(\"./untitled.txt\", \"w+\") as file_1: print(file_1.write(\"hello world\"))\n",
    "with open(\"./untitled.txt\", \"r\") as file_2: print(file_2.readline())\n",
    "\n",
    "    \n",
    "# 세트\n",
    "set_1 = set(\"abc\")\n",
    "set_2 = {\"하나\", \"둘\", \"셋\", \"하나\"}\n",
    "set_3 = {1, \"둘\", \"three\", 4}\n",
    "print(set_1, set_2, set_3)\n",
    "\n",
    "# 부울\n",
    "bool_1 = True\n",
    "bool_2 = False\n",
    "print(bool_1, bool_2)\n"
   ]
  },
  {
   "cell_type": "code",
   "execution_count": 3,
   "id": "4ae2f9cd-9559-4b4f-8b9f-dd61368246b3",
   "metadata": {
    "tags": []
   },
   "outputs": [
    {
     "name": "stdout",
     "output_type": "stream",
     "text": [
      "0.333333333333333314829616256247390992939472198486328125\n",
      "0.3333333333333333333333333333\n",
      "30\n"
     ]
    }
   ],
   "source": [
    "d_1 = Decimal(1/3)\n",
    "print(d_1)\n",
    "\n",
    "nom = Decimal(1)\n",
    "den = Decimal(3)\n",
    "print(nom / den)\n",
    "\n",
    "print(len(\"0.3333333333333333333333333333\"))"
   ]
  },
  {
   "cell_type": "code",
   "execution_count": 4,
   "id": "385265c9-b8c5-45c7-addf-ab7c4a0bbf0f",
   "metadata": {},
   "outputs": [
    {
     "name": "stdout",
     "output_type": "stream",
     "text": [
      "True True True\n"
     ]
    }
   ],
   "source": [
    "x = 1\n",
    "y = 2\n",
    "z = 3\n",
    "\n",
    "print(x<y, y<z, x<y<z)"
   ]
  },
  {
   "cell_type": "code",
   "execution_count": 5,
   "id": "d4be87e5-5145-4bb5-bfc1-1d9b227b0fa3",
   "metadata": {},
   "outputs": [
    {
     "name": "stdout",
     "output_type": "stream",
     "text": [
      "9\n",
      "7\n"
     ]
    }
   ],
   "source": [
    "print((x+y)*z)\n",
    "print(x+y*z)"
   ]
  },
  {
   "cell_type": "code",
   "execution_count": 6,
   "id": "9a4d0f19-bd3a-4ba0-9e74-c75593640f96",
   "metadata": {},
   "outputs": [
    {
     "name": "stdout",
     "output_type": "stream",
     "text": [
      "3.0 4.0\n",
      "4.0\n"
     ]
    }
   ],
   "source": [
    "a=1.0\n",
    "b=3\n",
    "print(a*b, a+b)\n",
    "\n",
    "\n",
    "print(int(a) + float(b))"
   ]
  },
  {
   "cell_type": "code",
   "execution_count": 7,
   "id": "7a787f91-318c-4c12-93ff-a2f58191779e",
   "metadata": {},
   "outputs": [
    {
     "name": "stdout",
     "output_type": "stream",
     "text": [
      "python\n"
     ]
    },
    {
     "data": {
      "text/plain": [
       "('python3', 7)"
      ]
     },
     "execution_count": 7,
     "metadata": {},
     "output_type": "execute_result"
    }
   ],
   "source": [
    "a = 'python'\n",
    "b = 3\n",
    "if b > 0: print(a)\n",
    "\n",
    "a+'3', b+4"
   ]
  },
  {
   "cell_type": "code",
   "execution_count": 8,
   "id": "5cff6b73-9a8b-41d3-8d5e-bec842064d2e",
   "metadata": {
    "tags": []
   },
   "outputs": [
    {
     "name": "stdout",
     "output_type": "stream",
     "text": [
      "5 15\n"
     ]
    }
   ],
   "source": [
    "random.randint(1, 10)\n",
    "print(math.gcd(5, 15), math.lcm(5, 15))"
   ]
  },
  {
   "cell_type": "code",
   "execution_count": 9,
   "id": "af36c68b-1440-4cb6-9c26-6e2460a3c5d4",
   "metadata": {},
   "outputs": [
    {
     "name": "stdout",
     "output_type": "stream",
     "text": [
      "246\n",
      "123123\n",
      "2.2\n",
      "0.3333333333333333\n"
     ]
    }
   ],
   "source": [
    "# 숫자\n",
    "#* 정수, 소수, 복소수, 정밀도가 높은 소수 그리고 분자 분모를 구분한 유리수가 있습니다\n",
    "\n",
    "# 숫자 리터럴\n",
    "#* 파이썬의 모든 숫자는 리터럴 즉 표현식을 통해서 런타임시에 결정되기 때문에 표현 방식에 대해 잘 익혀두어야만 합니다\n",
    "\n",
    "# 결합 (Bind)\n",
    "#* 이와 같이 표현식을 수행하는 순간, 데이터 타입이 결정되고, 객체가 생성됩니다\n",
    "#* 이렇게 객체와 생성된 이후부터 객체와 관련된 연산을 결합(bind)할 수 있습니다.\n",
    "#* 즉, 해당 객체 고유의 메소드 혹은 연산자를 사용할 수 있습니다\n",
    "\n",
    "print(123 * 2)\n",
    "print(\"123\" * 2)\n",
    "print(1.1 * 2)\n",
    "print(1/3)"
   ]
  },
  {
   "cell_type": "code",
   "execution_count": 30,
   "id": "9a5d94d3-adcc-4bb0-9253-df1c07a97b72",
   "metadata": {},
   "outputs": [
    {
     "name": "stdout",
     "output_type": "stream",
     "text": [
      "246\n",
      "123123\n",
      "2.2\n",
      "0.3333333333333333\n"
     ]
    }
   ],
   "source": [
    "# 숫자\n",
    "#* 정수, 소수, 복소수, 정밀도가 높은 소수 그리고 분자 분모를 구분한 유리수가 있습니다\n",
    "\n",
    "# 숫자 리터럴\n",
    "#* 파이썬의 모든 숫자는 리터럴 즉 표현식을 통해서 런타임시에 결정되기 때문에 표현 방식에 대해 잘 익혀두어야만 합니다\n",
    "\n",
    "# 결합 (Bind)\n",
    "#* 이와 같이 표현식을 수행하는 순간, 데이터 타입이 결정되고, 객체가 생성됩니다\n",
    "#* 이렇게 객체와 생성된 이후부터 객체와 관련된 연산을 결합(bind)할 수 있습니다.\n",
    "#* 즉, 해당 객체 고유의 메소드 혹은 연산자를 사용할 수 있습니다\n",
    "\n",
    "print(123 * 2)\n",
    "print(\"123\" * 2)\n",
    "print(1.1 * 2)\n",
    "print(1/3)"
   ]
  },
  {
   "cell_type": "code",
   "execution_count": 48,
   "id": "6edfaa18-bd81-4bfc-936f-986a3016946b",
   "metadata": {},
   "outputs": [
    {
     "name": "stdout",
     "output_type": "stream",
     "text": [
      "10715086071862673209484250490600018105614048117055336074437503883703510511249361224931983788156958581275946729175531468251871452856923140435984577574698574803934567774824230985421074605062371141877954182153046474983581941267398767559165543946077062914571196477686542167660429831652624386837205668069376\n",
      "<class 'int'>\n"
     ]
    }
   ],
   "source": [
    "x=2**1000\n",
    "print(x)\n",
    "print(type(x))"
   ]
  },
  {
   "cell_type": "code",
   "execution_count": 55,
   "id": "8c858ad5-d6f5-42d9-8dba-459508478ab0",
   "metadata": {},
   "outputs": [
    {
     "name": "stdout",
     "output_type": "stream",
     "text": [
      "Help on built-in function lcm in module math:\n",
      "\n",
      "lcm(*integers)\n",
      "    Least Common Multiple.\n",
      "\n"
     ]
    }
   ],
   "source": [
    "help(math.lcm)"
   ]
  },
  {
   "cell_type": "code",
   "execution_count": 61,
   "id": "a083f32c-407a-4937-88c1-a9c1d9a864c4",
   "metadata": {
    "tags": []
   },
   "outputs": [
    {
     "data": {
      "text/plain": [
       "int"
      ]
     },
     "execution_count": 61,
     "metadata": {},
     "output_type": "execute_result"
    }
   ],
   "source": [
    "num = 2**1000\n",
    "type(num)\n"
   ]
  },
  {
   "cell_type": "code",
   "execution_count": 75,
   "id": "9a55d863-2a67-4649-a2ac-f054bbeea404",
   "metadata": {},
   "outputs": [
    {
     "name": "stdout",
     "output_type": "stream",
     "text": [
      "['Struct', 'calcsize', 'error', 'iter_unpack', 'pack', 'pack_into', 'unpack', 'unpack_from']\n"
     ]
    }
   ],
   "source": [
    "print(list(filter(lambda item: not item.startswith(\"_\"), dir(struct))))"
   ]
  },
  {
   "cell_type": "code",
   "execution_count": 12,
   "id": "50907fcc-386e-4501-9b15-634e59a448cb",
   "metadata": {},
   "outputs": [
    {
     "name": "stdout",
     "output_type": "stream",
     "text": [
      "5 2 -3 2 -2\n",
      "2 4\n",
      "2 3\n",
      "Help on method seed in module random:\n",
      "\n",
      "seed(a=None, version=2) method of random.Random instance\n",
      "    Initialize internal state from a seed.\n",
      "    \n",
      "    The only supported seed types are None, int, float,\n",
      "    str, bytes, and bytearray.\n",
      "    \n",
      "    None or no argument seeds from current time or from an operating\n",
      "    system specific randomness source if available.\n",
      "    \n",
      "    If *a* is an int, all bits are used.\n",
      "    \n",
      "    For version 2 (the default), all of the bits are used if *a* is a str,\n",
      "    bytes, or bytearray.  For version 1 (provided for reproducing random\n",
      "    sequences from older versions of Python), the algorithm for str and\n",
      "    bytes generates a narrower range of seeds.\n",
      "\n"
     ]
    }
   ],
   "source": [
    "print(math.gcd(5, 15), math.floor(2.5), math.floor(-2.5), math.trunc(2.5), math.trunc(-2.5))\n",
    "\n",
    "print(round(2.5), round(3.5))\n",
    "print(math.floor(2.5), math.floor(3.5))\n",
    "\n",
    "help(random.seed)"
   ]
  },
  {
   "cell_type": "code",
   "execution_count": 13,
   "id": "f388cb63-5982-44d7-a53e-36de4f0ed138",
   "metadata": {},
   "outputs": [
    {
     "name": "stdout",
     "output_type": "stream",
     "text": [
      "1\n",
      "3\n",
      "8\n",
      "3\n",
      "2\n",
      "6\n",
      "4\n",
      "3\n",
      "4\n"
     ]
    }
   ],
   "source": [
    "random.seed(1974)\n",
    "for x in range(1, 10):\n",
    "    print(random.randint(1,9))"
   ]
  },
  {
   "cell_type": "code",
   "execution_count": 14,
   "id": "8dcc5ae0-7ed4-4c18-8d72-80d389c3260e",
   "metadata": {},
   "outputs": [
    {
     "name": "stdout",
     "output_type": "stream",
     "text": [
      "5.551115123125783e-17\n"
     ]
    }
   ],
   "source": [
    "print(0.1 + 0.1 + 0.1 - 0.3)"
   ]
  },
  {
   "cell_type": "code",
   "execution_count": 15,
   "id": "eb1ddb5c-c356-43cd-85a1-22933c54d5b3",
   "metadata": {},
   "outputs": [
    {
     "name": "stdout",
     "output_type": "stream",
     "text": [
      "0.3333333333333333\n",
      "0.3333333333333333333333333333\n"
     ]
    }
   ],
   "source": [
    "print(1/3)\n",
    "\n",
    "print(Decimal('1') / Decimal('3'))"
   ]
  },
  {
   "cell_type": "code",
   "execution_count": 16,
   "id": "e0bbae7d-f7d4-43dd-8531-f8c70b711b31",
   "metadata": {},
   "outputs": [
    {
     "data": {
      "text/plain": [
       "5.551115123125783e-17"
      ]
     },
     "execution_count": 16,
     "metadata": {},
     "output_type": "execute_result"
    }
   ],
   "source": [
    "0.1 + 0.1 + 0.1 - 0.3"
   ]
  },
  {
   "cell_type": "code",
   "execution_count": 17,
   "id": "3c180c03-905d-4cf5-8535-cee0b580f923",
   "metadata": {},
   "outputs": [
    {
     "data": {
      "text/plain": [
       "Decimal('0.0')"
      ]
     },
     "execution_count": 17,
     "metadata": {},
     "output_type": "execute_result"
    }
   ],
   "source": [
    "Decimal('0.1') + Decimal('0.1') + Decimal('0.1') - Decimal('0.3')"
   ]
  },
  {
   "cell_type": "code",
   "execution_count": 19,
   "id": "58ef124e-64a1-40d2-bd57-e04a79a6b373",
   "metadata": {},
   "outputs": [
    {
     "data": {
      "text/plain": [
       "Fraction(0, 1)"
      ]
     },
     "execution_count": 19,
     "metadata": {},
     "output_type": "execute_result"
    }
   ],
   "source": [
    "Fraction(1, 10) + Fraction(1, 10) + Fraction(1, 10) - Fraction(3, 10)"
   ]
  },
  {
   "cell_type": "code",
   "execution_count": 22,
   "id": "84db2dc3-3adc-422d-bf3a-edcdc254aa2d",
   "metadata": {},
   "outputs": [
    {
     "name": "stdout",
     "output_type": "stream",
     "text": [
      "1/4\n",
      "Fraction(1, 4)\n"
     ]
    }
   ],
   "source": [
    "z = Fraction('0.25')\n",
    "print(z)\n",
    "pprint(z)"
   ]
  },
  {
   "cell_type": "code",
   "execution_count": 151,
   "id": "9b1bad86-d7ee-4000-b63e-6935eb6c6a88",
   "metadata": {},
   "outputs": [
    {
     "name": "stdout",
     "output_type": "stream",
     "text": [
      "6\n",
      "문\n",
      "한\n",
      "A\n",
      "1\n",
      "X\n",
      "X\n",
      "PYTHON\n",
      "WORLD\n",
      "HELLO_PYTHON\n",
      "HELLO_PYTHON_WORLD\n",
      "HELLO_PYTHON_WORL\n",
      "HELLO_PYTHON_WORLD\n",
      "HELLOHELLOHELLO\n",
      "6\n",
      "HELLO_NOHTYP_WORLD\n",
      "['HELLO', 'PYTHON', 'WORLD']\n",
      "370370.33\n",
      "370370.33\n",
      "Help on method_descriptor:\n",
      "\n",
      "upper(self, /)\n",
      "    Return a copy of the string converted to uppercase.\n",
      "\n",
      "'string'\n",
      "\"string\"\n",
      "\n",
      "아주 긴 문장을 작성할 경우에 \"쌍따옴표\", '홑따옴표' 모두 사용할 수 있습니다\n",
      "이렇게 작성하면 됩니다\n",
      "특수문자는 역슬래시\n",
      "를 넣으면\t됩니다.\n",
      "\n",
      "9\n",
      "3\n",
      "4\n"
     ]
    }
   ],
   "source": [
    "# 문자열\n",
    "#* 하나 하나의 문자열의 연속적인 나열로 표현되므로 시퀀스라고 부르기도 합니다\n",
    "#* 이러한 문자(바이트)의 시퀀스의 특성에 따른 다양한 동작을 지원\n",
    "#* 길이를 알아내거나, 위치(인덱스)를 기준으로 문자열을 조작하는 것등\n",
    "\n",
    "# 문자열 길이\n",
    "str_1 = \"문자열의길이\"\n",
    "print(len(str_1))\n",
    "print(str_1[0])\n",
    "\n",
    "# 시퀀스 연산 - 문자열[인덱스]\n",
    "str_2 = \"한글은ABC123X\"\n",
    "print(str_2[0])\n",
    "print(str_2[3])\n",
    "print(str_2[6])\n",
    "print(str_2[-1])\n",
    "print(str_2[len(str_2)-1])\n",
    "\n",
    "# 슬라이싱 연산 - 문자열[인덱스:인덱스]\n",
    "#        012345678901234567\n",
    "str_3 = \"HELLO_PYTHON_WORLD\"\n",
    "print(str_3[6:12])\n",
    "print(str_3[13:])\n",
    "print(str_3[:12])\n",
    "print(str_3[:])\n",
    "print(str_3[:-1])\n",
    "\n",
    "# 문자열 붙이기 - 문자열 + 문자열\n",
    "print(\"HELLO\" + \"_\" + \"PYTHON\" + \"_\" + \"WORLD\")\n",
    "\n",
    "# 문자열 반복하기 - 문자열 * 숫자\n",
    "print(\"HELLO\"*3)\n",
    "\n",
    "# 문자열 위치찾기 - 문자열.find(\"찾을문자열\") \n",
    "print(\"HELLO_PYTHON_WORLD\".find(\"PYTHON\"))\n",
    "\n",
    "# 문자열 치환하기 - 문자열.replace(\"찾을문자열\", \"변경할문자열\")\n",
    "print(\"HELLO_PYTHON_WORLD\".replace(\"PYTHON\", \"NOHTYP\"))\n",
    "\n",
    "# 문자열 쪼개기 - 문자열.split(\"쪼갤문자열\")\n",
    "print(\"HELLO_PYTHON_WORLD\".split(\"_\"))\n",
    "\n",
    "# 문자열 포맷팅 - \"포맷팅\".format(...)\n",
    "print(\"{:.2f}\".format(1111111/3))\n",
    "print(\"%0.2f\" % (1111111/3))\n",
    "\n",
    "# 기타 함수 help(str) upper(), lower(), isalpha(), isalnum()\n",
    "help(str.upper)\n",
    "\n",
    "# 문자열을 작성하는 방법\n",
    "print(\"'string'\")\n",
    "print('\"string\"')\n",
    "print(\"\"\"\n",
    "아주 긴 문장을 작성할 경우에 \"쌍따옴표\", '홑따옴표' 모두 사용할 수 있습니다\n",
    "이렇게 작성하면 됩니다\n",
    "특수문자는 역슬래시\\n를 넣으면\\t됩니다.\n",
    "\"\"\")\n",
    "\n",
    "# 파이썬 str 문자열은 유니코드 텍스트로 처리되며, 메모리 상에서는 1, 2 또는 4바이트로 저장됩니다\n",
    "str_4 = bytes('한글은', 'utf-8')\n",
    "print(len(str_4))\n",
    "\n",
    "str_5 = bytes('abc', 'utf-8')\n",
    "print(len(str_5))\n",
    "\n",
    "str_6 = bytes('a한', 'utf-8')\n",
    "print(len(str_6))\n"
   ]
  },
  {
   "cell_type": "code",
   "execution_count": 107,
   "id": "31e896e4-2d89-4e09-9ac7-301c0a591c89",
   "metadata": {},
   "outputs": [
    {
     "data": {
      "text/plain": [
       "'a b c d e f g'"
      ]
     },
     "execution_count": 107,
     "metadata": {},
     "output_type": "execute_result"
    }
   ],
   "source": [
    "alpha=\"abcdefg\"\n",
    "\" \".join(alpha)"
   ]
  },
  {
   "cell_type": "code",
   "execution_count": 152,
   "id": "4b14e6be-9c71-483c-87ca-a2e8043ea206",
   "metadata": {},
   "outputs": [
    {
     "name": "stdout",
     "output_type": "stream",
     "text": [
      "================================================================================\n",
      "Hello python3 world !!\n",
      " hello python3 world !! \n",
      "Hello Python3 World !!\n",
      "                                       Hello Python3 World !!                                       \n",
      " Hello Python3 World !! ____________________________________________________________________________\n",
      "                                                                             Hello Python3 World !! \n"
     ]
    }
   ],
   "source": [
    "say_hello=\" Hello Python3 World !! \"\n",
    "\"_\".join(say_hello.strip().split())\n",
    "\n",
    "print(\"=\"*80)\n",
    "print(say_hello.strip().capitalize())\n",
    "print(say_hello.casefold())\n",
    "\n",
    "\n",
    "lower_say_hello=say_hello.lower()\n",
    "print(\" \".join(term.capitalize() for term in lower_say_hello.strip().split()))\n",
    "\n",
    "print(say_hello.center(100))\n",
    "print(say_hello.ljust(100, '_'))\n",
    "print(say_hello.rjust(100))"
   ]
  },
  {
   "cell_type": "code",
   "execution_count": 165,
   "id": "5fa3de34-1d5e-45e8-98e0-67943eabab9d",
   "metadata": {},
   "outputs": [
    {
     "name": "stdout",
     "output_type": "stream",
     "text": [
      "나의 이름은박수혁 (A)이고, 나이는 18입니다.\n"
     ]
    }
   ],
   "source": [
    "my_name=\"박수혁\"\n",
    "my_age=18\n",
    "c='A'\n",
    "str_1 = \"나의 이름은%s (%s)이고, 나이는 %d입니다.\" % (my_name, c, my_age)\n",
    "print(str_1)"
   ]
  },
  {
   "cell_type": "code",
   "execution_count": 170,
   "id": "cede22b6-6773-438d-a0ad-896c590056c3",
   "metadata": {},
   "outputs": [
    {
     "data": {
      "text/plain": [
       "'park, suhyuk and 30'"
      ]
     },
     "execution_count": 170,
     "metadata": {},
     "output_type": "execute_result"
    }
   ],
   "source": [
    "'{0}, {1} and {2}'.format('park', 'suhyuk', 28)\n",
    "'{last}, {first} and {age}'.format(last='park', first='suhyuk', age=29)\n",
    "'{}, {} and {}'.format('park', 'suhyuk', 30)"
   ]
  },
  {
   "cell_type": "code",
   "execution_count": 182,
   "id": "d3992496-8c4c-4852-8dde-450b27a9c3ca",
   "metadata": {},
   "outputs": [
    {
     "name": "stdout",
     "output_type": "stream",
     "text": [
      "\u001b[33mWARNING: The directory '/home/jovyan/.cache/pip' or its parent directory is not owned or is not writable by the current user. The cache has been disabled. Check the permissions and owner of that directory. If executing pip with sudo, you should use sudo's -H flag.\u001b[0m\u001b[33m\n",
      "\u001b[0mCollecting money\n",
      "  Downloading money-1.3.0.tar.gz (18 kB)\n",
      "  Preparing metadata (setup.py) ... \u001b[?25ldone\n",
      "\u001b[?25hBuilding wheels for collected packages: money\n",
      "  Building wheel for money (setup.py) ... \u001b[?25ldone\n",
      "\u001b[?25h  Created wheel for money: filename=money-1.3.0-py3-none-any.whl size=6623 sha256=dfddbb2b4d4f1da7f4fdd05bc5d85a048f1b747b6ec25e2154b6933b5c3d2338\n",
      "  Stored in directory: /tmp/pip-ephem-wheel-cache-tu0o7vqz/wheels/94/3e/46/ae641511f386d913fd99b6ec317deb98467431abd744e07370\n",
      "Successfully built money\n",
      "Installing collected packages: money\n",
      "Successfully installed money-1.3.0\n",
      "\u001b[33mWARNING: Running pip as the 'root' user can result in broken permissions and conflicting behaviour with the system package manager. It is recommended to use a virtual environment instead: https://pip.pypa.io/warnings/venv\u001b[0m\u001b[33m\n",
      "\u001b[0m"
     ]
    }
   ],
   "source": [
    "!pip install money"
   ]
  },
  {
   "cell_type": "code",
   "execution_count": 189,
   "id": "a28fb603-ec86-40f2-80f5-38b28e360389",
   "metadata": {},
   "outputs": [
    {
     "data": {
      "text/plain": [
       "'USD 1,234.12'"
      ]
     },
     "execution_count": 189,
     "metadata": {},
     "output_type": "execute_result"
    }
   ],
   "source": [
    "from money import *\n",
    "\n",
    "'{0:>10} = {1:10.4f}'.format('python', math.pi)\n",
    "'{0:,d}'.format(123456789)\n",
    "'%s' % (Money(1234.1234, currency='USD'))"
   ]
  },
  {
   "cell_type": "code",
   "execution_count": 164,
   "id": "749ea0ac-9518-4dd4-b061-ebdcb9ed9e69",
   "metadata": {},
   "outputs": [
    {
     "data": {
      "text/plain": [
       "'1.02e+03'"
      ]
     },
     "execution_count": 164,
     "metadata": {},
     "output_type": "execute_result"
    }
   ],
   "source": [
    "\"%.2f\" % math.pi\n",
    "\"%08d\" % 1234\n",
    "\"%.8e\" % math.pi\n",
    "\n",
    "\"%.2e\" % (2**10)"
   ]
  },
  {
   "cell_type": "code",
   "execution_count": 133,
   "id": "92d8c220-eb29-4a24-b9b0-3bd7cbc904ee",
   "metadata": {},
   "outputs": [
    {
     "name": "stdout",
     "output_type": "stream",
     "text": [
      "PY\n",
      "!\n",
      "ON\n",
      "PYTHON\n",
      "PYTHON!\n",
      "!\n",
      "PTO!\n",
      "PTO!\n",
      "!NOHTYP\n"
     ]
    }
   ],
   "source": [
    "str = \"PYTHON!\"\n",
    "print(str[0:2])\n",
    "print(str[-1:])# -> !\n",
    "print(str[-3:-1])# -> ON\n",
    "print(str[0:-1])# -> PYTHON\n",
    "print(str[:])# -> PYTHON!\n",
    "\n",
    "print(str[7-1])# -> !\n",
    "\n",
    "print(str[0:7:2])\n",
    "print(str[::2])\n",
    "print(str[::-1])"
   ]
  },
  {
   "cell_type": "code",
   "execution_count": 141,
   "id": "ab894d64-bced-45ea-ad09-ef54c7755ce9",
   "metadata": {},
   "outputs": [
    {
     "name": "stdout",
     "output_type": "stream",
     "text": [
      "97\n",
      "a\n",
      "65\n",
      "A\n",
      "Z\n",
      "26\n"
     ]
    }
   ],
   "source": [
    "print(ord('a'))\n",
    "print(chr(ord('a')))\n",
    "\n",
    "print(ord('A'))\n",
    "print(chr(ord('A')))\n",
    "\n",
    "print(chr(ord('A')+25))\n",
    "print(ord('Z')-ord('A')+1)"
   ]
  },
  {
   "cell_type": "code",
   "execution_count": 216,
   "id": "b4442379-4efb-4c67-a428-3090fe10bf56",
   "metadata": {},
   "outputs": [
    {
     "name": "stdout",
     "output_type": "stream",
     "text": [
      "[1234, 'number', 1.23]\n",
      "number\n",
      "[1234, 'number', 1.23, 1234, 'number', 1.23]\n",
      "[1234, 'number', 1.23, ['number', 1.23]]\n",
      "[1234, 'number', ['number', 1.23]]\n",
      "[1, 2, 3, 4, 5, 6, 7, 8, 9, 10]\n",
      "[10, 9, 8, 7, 6, 5, 4, 3, 2, 1]\n",
      "[[1, 2, 3], [4, 5, 6], [7, 8, 9]]\n",
      "[2, 5, 8]\n",
      "[2, 8]\n",
      "[5]\n",
      "[1, 5, 9]\n",
      "[0, 1, 2, 3, 4, 5, 6, 7, 8, 9]\n",
      "[1, 2, 3, 4, 5, 6, 7, 8, 9, 10]\n",
      "[-5, -3, -1, 1, 3]\n",
      "[6, 15, 24]\n",
      "6\n",
      "15\n",
      "24\n",
      "[6, 15, 24]\n"
     ]
    }
   ],
   "source": [
    "# 리스트\n",
    "#* 임의의 데이터 타입에 대한 객체의 시퀀스\n",
    "\n",
    "# 서로 다른 데이터 타입의 객체들도 하나의 리스트에 포함될 수 있습니다.\n",
    "print([1234, 'number', 1.23])\n",
    "\n",
    "# 특정 리스트를 액세스 - 리스트[인덱스]\n",
    "list_1 = [1234, 'number', 1.23]\n",
    "print(list_1[1])\n",
    "\n",
    "# 리스트 붙이기 - 리스트 + 리스트\n",
    "print([1234, 'number', 1.23] + [1234, 'number', 1.23])\n",
    "\n",
    "# 리스트 다루기 - append(list), extend(list), pop(index), sort(), reverse()\n",
    "list_2=[]\n",
    "list_2.append(1234)\n",
    "list_2.extend(['number', 1.23])\n",
    "list_2.append(['number', 1.23])\n",
    "print(list_2)\n",
    "\n",
    "list_2.pop(2)\n",
    "print(list_2)\n",
    "\n",
    "list_3 = [10,5,6,2,9,3,1,4,7,8]\n",
    "list_3.sort()\n",
    "print(list_3)\n",
    "list_3.reverse()\n",
    "print(list_3)\n",
    "\n",
    "# 경계를 벗어나는 경우\n",
    "\n",
    "# 중첩 리스트\n",
    "list_4 = [[1,2,3], [4,5,6], [7,8,9]]\n",
    "print(list_4)\n",
    "\n",
    "# 리스트 컴프리헨션 #1 - 리스트에서 특정 컬럼만 추출하여 리스트로 반환 - [ 표현식 for 아이템 in 리스트 ]\n",
    "list_5 = [row[1] for row in list_4]\n",
    "print(list_5)\n",
    "\n",
    "# 리스트 컴프리헨션 #2 - 리스트에서 특정 컬럼만 추출하되 짝수만 추출하여 반환 - [ 표현식 for 아이템 in 리스트 if 조건 ]\n",
    "list_6 = [row[1] for row in list_4 if row[1] % 2 == 0]\n",
    "print(list_6)\n",
    "\n",
    "# 리스트 컴프리헨션 #3 - 리스트에서 첫번째 컬럼이 짝수인 두번째 값만 추출하여 반환 - [ 표현식 for 아이템 in 리스트 if 조건 ]\n",
    "list_7 = [row[1] for row in list_4 if row[0] % 2 == 0]\n",
    "print(list_7)\n",
    "\n",
    "# 리스트 컴프리헨션 #4 - 대각선 행렬 값을 가져옴 - [ 표현식 for 값 in 리스트 ]\n",
    "list_8 = [list_4[i][i] for i in [0, 1, 2]]\n",
    "print(list_8)\n",
    "\n",
    "# 내장함수 range와 결합 하여 연속된 숫자를 가진 리스트\n",
    "print(list(range(10)))\n",
    "print(list(range(1, 11)))\n",
    "print(list(range(-5, 5, 2)))\n",
    "\n",
    "list_9 = [sum(row) for row in list_4]\n",
    "print(list_9)\n",
    "\n",
    "# 괄호 컴프리헨션 - 제너레이터 생성\n",
    "gen_1 = (sum(row) for row in list_4)\n",
    "print(next(gen_1))\n",
    "print(next(gen_1))\n",
    "print(next(gen_1))\n",
    "\n",
    "# 맵 함수 - map(함수, 반복문)\n",
    "print(list(map(sum, list_4)))\n"
   ]
  },
  {
   "cell_type": "code",
   "execution_count": 191,
   "id": "da59b3de-59b5-4a35-876b-df6d77f41bdf",
   "metadata": {},
   "outputs": [
    {
     "data": {
      "text/plain": [
       "[[1, 2, 3], [4, 5, 6], [7, 8, 9]]"
      ]
     },
     "execution_count": 191,
     "metadata": {},
     "output_type": "execute_result"
    }
   ],
   "source": [
    "list_4 = [[1,2,3], [4,5,6], [7,8,9]]\n",
    "list_4"
   ]
  },
  {
   "cell_type": "code",
   "execution_count": 23,
   "id": "6398be50-738e-4268-be5a-71bad210ee1a",
   "metadata": {},
   "outputs": [
    {
     "name": "stdout",
     "output_type": "stream",
     "text": [
      "world\n",
      "bar\n",
      "영희\n",
      "{'hello': 'world', 'foo': 'bar', '철수': '영희', 'number': 1}\n",
      "2\n",
      "{'hello': 'world', 'foo': 'bar', '철수': '영희', 'number': 1}\n",
      "{'hello': 'world', 'foo': 'bar', '철수': '영희', 'number': 1}\n",
      "수혁 1234\n",
      "world\n",
      "world\n",
      "world\n",
      "['hello', 'foo', '철수', 'number']\n",
      "['foo', 'hello', 'number', '철수']\n",
      "['foo', 'hello', 'number', '철수']\n"
     ]
    }
   ],
   "source": [
    "# 딕셔너리\n",
    "#* 키(key)에 대한 값(value)을 저장하는 매핑(mapping)을 저장하는 자료 유형\n",
    "\n",
    "# 키에 대한 값을 반환 - { 키:값 ... }\n",
    "dict_1 = { 'hello':'world', 'foo':'bar', '철수':'영희', 'number':1}\n",
    "print(dict_1['hello'])\n",
    "print(dict_1['foo'])\n",
    "print(dict_1['철수'])\n",
    "print(dict_1)\n",
    "\n",
    "# 키에 대한 값을 변경\n",
    "dict_1['number'] += 1\n",
    "print(dict_1['number'])\n",
    "\n",
    "# 키워드 인수 (함수 호출시 인수) 방식으로 선언 - {키=값, ...}\n",
    "print(dict(hello='world', foo='bar', 철수='영희', number=1))\n",
    "\n",
    "# 결합 함수 (zip) 방식으로 선언 - zip(리스트[키], 리스트[값])\n",
    "print(dict(zip(['hello', 'foo', '철수', 'number'], ['world','bar','영희',1])))\n",
    "\n",
    "# 중첩 딕셔너리 - 딕셔너리 of 딕셔너리\n",
    "dict_2 = { \"name\": { \"second_name\":\"박\", \"first_name\":\"수혁\" }, \"number\": { \"office\": 1234, \"home\": 5678 } }\n",
    "print(dict_2[\"name\"][\"first_name\"], dict_2[\"number\"][\"office\"])\n",
    "\n",
    "# 존재하는 키 여부 - 키 in 딕셔너리\n",
    "#* if 구문 들여쓰기\n",
    "if 'hello' in dict_1:\n",
    "    print(\"world\")\n",
    "else:\n",
    "    print(\"hello\")\n",
    "\n",
    "# 딕셔너리 값 가져오기, 기본값  - 딕셔너리.get(키, 기본값)\n",
    "print(dict_1.get('hello', 'world'))\n",
    "\n",
    "# if else 표현식 - 참 if 조건식 else 거짓\n",
    "print(dict_1.get('hello') if 'hello' in dict_1 else 'world')\n",
    "\n",
    "# 키 정렬 #1 - list(딕셔너리.keys()) + sort()\n",
    "list_1 = list(dict_1)\n",
    "print(list_1)\n",
    "\n",
    "list_1.sort()\n",
    "print(list_1)\n",
    "\n",
    "# 키 정렬 #2 - sorted(list(dict) : 키가 아니라 딕셔너리\n",
    "print(sorted(list(dict_1)))\n",
    "\n",
    "\n"
   ]
  },
  {
   "cell_type": "code",
   "execution_count": 24,
   "id": "11d47566-541a-45da-be44-3a1992901597",
   "metadata": {},
   "outputs": [
    {
     "name": "stdout",
     "output_type": "stream",
     "text": [
      "(1, 2, 3, 4)\n",
      "('문자', 1)\n",
      "2\n",
      "0\n",
      "(1, 2, 3, 4, 5, 6, 7)\n",
      "4\n",
      "(1, 2, 3, 4, 'str', [5, 6, 7])\n"
     ]
    }
   ],
   "source": [
    "# 튜플\n",
    "#* 리스트와 유사하나, 변경할수 없으며, 불변성의 특징을 가지므로 인덱스로 액세스는 가능하지만, 수정은 불가하며 새로 생성해서 사용합니다\n",
    "#* 변경 가능한 리스트에 비해서 변경 불가능한 튜플이 유용한 경우가 있습니다\n",
    "\n",
    "tuple_1 = (1, 2, 3, 4)\n",
    "print(tuple_1)\n",
    "tuple_2 = (\"문자\", 1)\n",
    "print(tuple_2)\n",
    "# tuple_2[0] = 0\n",
    "\n",
    "# 특정 아이템의 인덱스를 구할 때 - 튜플.index(아이템)\n",
    "print(tuple_1.index(3))\n",
    "print(tuple_2.index(\"문자\"))\n",
    "\n",
    "# 튜플끼리 병합 - 튜플 + 튜플\n",
    "tuple_3 = (1,2)+(3,4)+(5,6,7)\n",
    "print(tuple_3)\n",
    "\n",
    "# 튜플내에 발생하는 빈도수 - 튜플.count(아이템)\n",
    "print((1,2,3,4,1,2,3,4,1,2,3,4,1).count(1))\n",
    "\n",
    "# 튜플의 괄호는 생략되어도 튜플로 인식 됩니다\n",
    "tuple_4 = 1, 2, 3, 4, 'str', [5, 6, 7]\n",
    "print(tuple_4)\n"
   ]
  },
  {
   "cell_type": "code",
   "execution_count": 28,
   "id": "564bfbe8-6c8c-4596-9b0f-0de75aa64c1a",
   "metadata": {},
   "outputs": [
    {
     "name": "stdout",
     "output_type": "stream",
     "text": [
      "기본 텍스트 쓰기로 파일 읽기, 없다면 생성없다면 생성 후, 쓰고나서 닫기\n"
     ]
    }
   ],
   "source": [
    "# 파일\n",
    "#* 디스크에 존재하는 파일을 읽고, 쓰기 위해서는 open 시스템 함수를 사용해야 합니다\n",
    "\n",
    "# 기본 텍스트 쓰기로 파일 읽기, 없다면 생성 후, 쓰고나서 닫기 \n",
    "file_1 = open('untitled.txt', 'w+')\n",
    "file_1.write(\"기본 텍스트 쓰기로 파일 읽기, 없다면 생성\")\n",
    "file_1.write(\"없다면 생성 후, 쓰고나서 닫기\")\n",
    "file_1.close()\n",
    "\n",
    "# 기본 텍스트 읽기 전용으로 파일 열어서 모든 파일 내용을 읽고 출력 후 닫기\n",
    "file_2 = open('untitled.txt')\n",
    "print(file_2.read())\n",
    "file_2.close()\n",
    "\n"
   ]
  },
  {
   "cell_type": "code",
   "execution_count": 29,
   "id": "2e2a2973-1081-46ee-9215-8e4a861ee350",
   "metadata": {},
   "outputs": [
    {
     "name": "stdout",
     "output_type": "stream",
     "text": [
      "b'\\x00\\x00\\x00\\x07python\\x00\\x08'\n",
      "12\n",
      "(7, b'python', 8)\n",
      "3\n"
     ]
    }
   ],
   "source": [
    "\n",
    "# 바이너리로 쓰기 - https://docs.python.org/ko/3/library/struct.html\n",
    "#* > : 리틀엔디안\n",
    "#* i : integer (4bytes)\n",
    "#* 6s : 6 * char[] (6bytes)\n",
    "#* h : short (2bytes)\n",
    "\n",
    "file_3 = open('binary.bin', 'wb+')\n",
    "packed = struct.pack('>i6sh', 7, b'python', 8)\n",
    "print(packed)\n",
    "print(len(packed))\n",
    "file_3.write(packed)\n",
    "file_3.close\n",
    "\n",
    "\n",
    "# 바이너리로 읽기 - 다시 원본 구조체를 통해서 객체로 받아올 수 있습니다\n",
    "\n",
    "file_4 = open('binary.bin', 'rb')\n",
    "unpacked = struct.unpack('>i6sh', file_4.read())\n",
    "print(unpacked)\n",
    "print(len(unpacked))\n",
    "file_4.close()\n",
    "\n",
    "# 유니코드로 쓰기\n",
    "\n",
    "# 유니코드로 읽기\n",
    "\n"
   ]
  },
  {
   "cell_type": "code",
   "execution_count": 102,
   "id": "f5eaeac6-d8dd-46ad-a390-06a5144f5dc2",
   "metadata": {},
   "outputs": [
    {
     "name": "stdout",
     "output_type": "stream",
     "text": [
      "{'만', '병', ' ', '소', '주'}\n",
      "{'주', '소'}\n",
      "{'만', '병'}\n",
      "{'주', '소'}\n",
      "{'만', '병', '소', '주', ' ', '!'}\n",
      "True False\n",
      "{'만', '병', ' '}\n",
      "{'만', '병', '소', '주', ' '}\n",
      "{'만', '병', ' ', '소', '주'}\n",
      "True\n",
      "{1.23, (1, 2, 3)}\n"
     ]
    },
    {
     "data": {
      "text/plain": [
       "False"
      ]
     },
     "execution_count": 102,
     "metadata": {},
     "output_type": "execute_result"
    }
   ],
   "source": [
    "# 집합\n",
    "set_1=set(\"소주 만 병만 주소\")\n",
    "print(set_1)\n",
    "\n",
    "set_2={\"소\",\"주\"}\n",
    "print(set_2)\n",
    "\n",
    "set_3 = set_1 - set_2 - {\" \"}\n",
    "print(set_3)\n",
    "\n",
    "set_4 = set_1 & set_2\n",
    "print(set_4)\n",
    "\n",
    "set_5 = set_1 | {\"!\"}\n",
    "print(set_5)\n",
    "\n",
    "print(set_1 > set_2, set_2 > set_1)\n",
    "\n",
    "print(set_1 ^ set_2)\n",
    "\n",
    "\n",
    "print(set_1.union(set_2))\n",
    "set_1.update(set_2)\n",
    "print(set_1)\n",
    "\n",
    "print(set_2.issubset(set_1))\n",
    "\n",
    "\n",
    "set_6 = {1.23}\n",
    "# set_6.add([1,2,3])\n",
    "# set_6.add({'a':1})\n",
    "set_6.add((1,2,3))\n",
    "print(set_6)\n",
    "\n",
    "(1,2,3) in set_6\n",
    "(2,3,1) in set_6"
   ]
  },
  {
   "cell_type": "code",
   "execution_count": 103,
   "id": "9260726c-0791-48b8-a93b-71f1eecab9fb",
   "metadata": {},
   "outputs": [
    {
     "data": {
      "text/plain": [
       "{0, 1, 4, 9, 16, 25, 36, 49, 64}"
      ]
     },
     "execution_count": 103,
     "metadata": {},
     "output_type": "execute_result"
    }
   ],
   "source": [
    "{ x ** 2 for x in range(0, 9) }"
   ]
  },
  {
   "cell_type": "code",
   "execution_count": 104,
   "id": "98259b2d-11ae-4627-b56d-0ce879d59d4f",
   "metadata": {},
   "outputs": [
    {
     "data": {
      "text/plain": [
       "{4, 16}"
      ]
     },
     "execution_count": 104,
     "metadata": {},
     "output_type": "execute_result"
    }
   ],
   "source": [
    "{ x ** 2 for x in [1,2,3,4,5] if x % 2 == 0 }"
   ]
  },
  {
   "cell_type": "code",
   "execution_count": 105,
   "id": "56a207e0-1d9a-4f66-99c2-af7655f0be01",
   "metadata": {},
   "outputs": [
    {
     "name": "stdout",
     "output_type": "stream",
     "text": [
      "True\n"
     ]
    }
   ],
   "source": [
    "# 부울\n",
    "a = 1\n",
    "if a == 1: print(a == 1)"
   ]
  },
  {
   "cell_type": "code",
   "execution_count": 226,
   "id": "ffe08d37-fcda-4577-a066-6e3fe625d2f4",
   "metadata": {},
   "outputs": [
    {
     "name": "stdout",
     "output_type": "stream",
     "text": [
      "HELLO_NOHTYP_WORLD\n",
      "NOHTYP\n",
      "0\n"
     ]
    }
   ],
   "source": [
    "# 자료형의 변경 가능성\n",
    "#* 불변성 (Immutable) : 숫자, 문자열, 튜플\n",
    "#* 가변성 (Mutable) : 리스트, 딕셔너리, 집합\n",
    "\n",
    "\n",
    "# 문자열 불변성\n",
    "str_x = \"HELLO_NOHTYP_WORLD\"\n",
    "str_y = str_x[6:12]\n",
    "# str_x[6:12] = \"NOHTYP\" # 문자열의 일부의 변경은 허용되지 않습니다\n",
    "str_x = \"HELLO_NOHTYP_WORLD\"\n",
    "print(str_x)\n",
    "print(str_y)\n",
    "\n",
    "# 메모리 해제 시점\n",
    "#* 객체에 대한 마지막 참조가 사라질 때에 메모리에서 자동으로 해제 (Garbage collection) 됩니다\n",
    "dict_x = { \"키\":\"값\" }\n",
    "dict_x = 0\n",
    "print(dict_x)\n"
   ]
  },
  {
   "cell_type": "code",
   "execution_count": 244,
   "id": "fd643916-2149-4ee7-a4c6-4a90c01c9780",
   "metadata": {},
   "outputs": [
    {
     "name": "stdout",
     "output_type": "stream",
     "text": [
      "['a', 'b', 'c']\n",
      "[('a', 9), ('b', 8), ('c', 7)]\n",
      "[9, 8, 7]\n"
     ]
    }
   ],
   "source": [
    "\n",
    "# 자료형의 구분\n",
    "#* 시퀀스 (Sequence) = 문자열, 리스트\n",
    "#* 매핑 (Mapping) = 딕셔너리\n",
    "\n",
    "\n",
    "# 반복과 최적화\n",
    "#* 모든 반복 가능한 녀석은 iter 호출에 의해서 반복 객체가 생성되며\n",
    "#* next 호출에 의해서 다음으로 진행 되며, 더 이상 아이템이 없는 경우 예외를 발생시킵니다\n",
    "\n",
    "# 앞서 다루었던 `컴프리헨션 제너레이터` 표현식은 실행 즉시 메모리에 생성되지 않고, 일반적으로 반복도구에 의해 요청될 때 생성된다\n",
    "# 또한 sorted(dict) 와 같이 키를 넣어줄 필요가 없는 것이 딕셔너리는 반복 객체이므로 next 메서드를 이용하여 연속적인 키가 반환된다\n",
    "\n",
    "dict_z = { \"a\":9, \"c\":7, \"b\":8 }\n",
    "print(sorted(dict_z))\n",
    "print(sorted(dict_z.items(), key=lambda item: item[1], reverse=True))\n",
    "print(sorted(dict_z.values(), reverse=True))"
   ]
  },
  {
   "cell_type": "code",
   "execution_count": 1,
   "id": "71118099-6b88-4a63-9c05-778b5f448393",
   "metadata": {},
   "outputs": [
    {
     "data": {
      "text/plain": [
       "'도미노피자'"
      ]
     },
     "execution_count": 1,
     "metadata": {},
     "output_type": "execute_result"
    }
   ],
   "source": [
    "mother_says = None\n",
    "choice = '피자'\n",
    "\n",
    "if choice == '햄버거':\n",
    "    mother_says = '맥도날드'\n",
    "elif choice == '치킨':\n",
    "    mother_says = '굽네치킨'\n",
    "elif choice == '피자':\n",
    "    mother_says = '도미노피자'\n",
    "else:\n",
    "    mother_says = '굶어!!'\n",
    "mother_says"
   ]
  },
  {
   "cell_type": "code",
   "execution_count": 2,
   "id": "13470a10-3e20-4ca3-ae04-646ec255e419",
   "metadata": {},
   "outputs": [
    {
     "data": {
      "text/plain": [
       "'굶어!!!'"
      ]
     },
     "execution_count": 2,
     "metadata": {},
     "output_type": "execute_result"
    }
   ],
   "source": [
    "menu = dict(햄버거='맥도날드', 치킨='굽네치킨', 피자='도미노피자')\n",
    "choice = '랍스타'\n",
    "\n",
    "menu.get(choice, '굶어!!!')"
   ]
  },
  {
   "cell_type": "code",
   "execution_count": 8,
   "id": "a66de976-1577-41df-9953-005f90f3f585",
   "metadata": {},
   "outputs": [
    {
     "name": "stdout",
     "output_type": "stream",
     "text": [
      "ok\n"
     ]
    }
   ],
   "source": [
    "a = b = c = d = e = f = g = 0\n",
    "if (a == b and c == d and \n",
    "    d == e and f == g):\n",
    "    print('ok')"
   ]
  },
  {
   "cell_type": "code",
   "execution_count": 14,
   "id": "25aa7adf-8d30-4a43-999f-065e523b110d",
   "metadata": {},
   "outputs": [
    {
     "name": "stdout",
     "output_type": "stream",
     "text": [
      "not ok\n"
     ]
    }
   ],
   "source": [
    "e = 2\n",
    "if a == b == c == d == e == f == g:\n",
    "    print('ok')\n",
    "else:\n",
    "    print('not ok')"
   ]
  },
  {
   "cell_type": "code",
   "execution_count": 15,
   "id": "52823892-6335-4e6d-9d71-ff93e00d8ac7",
   "metadata": {},
   "outputs": [
    {
     "name": "stdout",
     "output_type": "stream",
     "text": [
      "s1 is true\n",
      "s1 is not true\n"
     ]
    }
   ],
   "source": [
    "s1 = ' '\n",
    "s2 = ''\n",
    "if s1:\n",
    "    print('s1 is true')\n",
    "else:\n",
    "    print('s1 is not true')\n",
    "if s2:\n",
    "    print('s2 is true')\n",
    "else:\n",
    "    print('s1 is not true')\n",
    "\n"
   ]
  },
  {
   "cell_type": "code",
   "execution_count": 19,
   "id": "c31fc83c-7485-43f8-b8f7-79f18bafc7f7",
   "metadata": {},
   "outputs": [
    {
     "name": "stdout",
     "output_type": "stream",
     "text": [
      "[공백]:   is true\n",
      "[널]:  is false\n",
      "[숫자]: 3 is true\n",
      "[숫자]: 0 is false\n",
      "[리스트]: [] is false\n",
      "[리스트]: [1] is true\n",
      "[튜플]: () is false\n",
      "[튜플]: (1,) is true\n"
     ]
    }
   ],
   "source": [
    "def true_or_not_true(msg, o):\n",
    "    if o:\n",
    "        print('[{}]: {} is true'.format(msg, o))\n",
    "    else:\n",
    "        print('[{}]: {} is false'.format(msg, o))\n",
    "\n",
    "true_or_not_true('공백', ' ')\n",
    "true_or_not_true('널', '')\n",
    "true_or_not_true('숫자', 3)\n",
    "true_or_not_true('숫자', 0)\n",
    "true_or_not_true('리스트', [])\n",
    "true_or_not_true('리스트', [1])\n",
    "true_or_not_true('튜플', ())\n",
    "true_or_not_true('튜플', (1,))"
   ]
  },
  {
   "cell_type": "code",
   "execution_count": 21,
   "id": "b2f30543-1f2b-4387-8337-d3a5797e0b3f",
   "metadata": {},
   "outputs": [
    {
     "data": {
      "text/plain": [
       "False"
      ]
     },
     "execution_count": 21,
     "metadata": {},
     "output_type": "execute_result"
    }
   ],
   "source": [
    "\"u\".isupper()"
   ]
  },
  {
   "cell_type": "code",
   "execution_count": null,
   "id": "9bc1424f-d00b-4dcd-bf9c-db4965a46cc3",
   "metadata": {},
   "outputs": [],
   "source": []
  }
 ],
 "metadata": {
  "kernelspec": {
   "display_name": "Python 3 (ipykernel)",
   "language": "python",
   "name": "python3"
  },
  "language_info": {
   "codemirror_mode": {
    "name": "ipython",
    "version": 3
   },
   "file_extension": ".py",
   "mimetype": "text/x-python",
   "name": "python",
   "nbconvert_exporter": "python",
   "pygments_lexer": "ipython3",
   "version": "3.9.12"
  }
 },
 "nbformat": 4,
 "nbformat_minor": 5
}
