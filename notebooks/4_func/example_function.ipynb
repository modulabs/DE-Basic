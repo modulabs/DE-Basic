{
 "cells": [
  {
   "cell_type": "code",
   "execution_count": 1,
   "id": "8006a42a-efe4-419b-9a51-b19d02189e82",
   "metadata": {},
   "outputs": [
    {
     "name": "stdout",
     "output_type": "stream",
     "text": [
      "input: 2, output: 4\n"
     ]
    }
   ],
   "source": [
    "# 일반함수와 익명함수의 차이점\n",
    "\n",
    "def print_function(func, input):\n",
    "    output = func(input)\n",
    "    print('input: {}, output: {}'.format(input, output))\n",
    "\n",
    "# 일반함수\n",
    "def square(x):\n",
    "    return x ** 2\n",
    "\n",
    "print_function(square, 2)"
   ]
  },
  {
   "cell_type": "code",
   "execution_count": 2,
   "id": "33d3d608-ed98-4f62-b52a-2f25dd566d2d",
   "metadata": {},
   "outputs": [
    {
     "name": "stdout",
     "output_type": "stream",
     "text": [
      "input: 2, output: 4\n"
     ]
    }
   ],
   "source": [
    "# 익명함수\n",
    "\n",
    "print_function(lambda x: x**2, 2)"
   ]
  },
  {
   "cell_type": "code",
   "execution_count": 3,
   "id": "4942df57-4e69-4143-80f0-44a49b759740",
   "metadata": {},
   "outputs": [
    {
     "name": "stdout",
     "output_type": "stream",
     "text": [
      "1\n",
      "1\n"
     ]
    }
   ],
   "source": [
    "# 인수 테스트 - primitive type 은 객체가 아니므로 값으로 전달\n",
    "input_value_is_one = 1\n",
    "def args_modified(input):\n",
    "    input += 1\n",
    "\n",
    "print(input_value_is_one)\n",
    "args_modified(input_value_is_one)\n",
    "print(input_value_is_one)"
   ]
  },
  {
   "cell_type": "code",
   "execution_count": 4,
   "id": "be016822-c3c7-48c9-ad32-9303297b3013",
   "metadata": {},
   "outputs": [
    {
     "name": "stdout",
     "output_type": "stream",
     "text": [
      "1\n",
      "1\n"
     ]
    }
   ],
   "source": [
    "# 인수 테스트 - 문자열 또한 값으로 전달\n",
    "input_string_is_one = \"1\"\n",
    "def args_modified(input):\n",
    "    input = \"2\"\n",
    "\n",
    "print(input_string_is_one)\n",
    "args_modified(input_string_is_one)\n",
    "print(input_string_is_one)"
   ]
  },
  {
   "cell_type": "code",
   "execution_count": 60,
   "id": "b1892b1c-906f-4604-a9da-cd3a46c0a671",
   "metadata": {
    "tags": []
   },
   "outputs": [
    {
     "name": "stdout",
     "output_type": "stream",
     "text": [
      "{'타이타닉': {'movie_director': 1997,\n",
      "          'movie_name': '타이타닉',\n",
      "          'movie_year': '제임스 카메론'}}\n",
      "{'타이타닉': {'movie_director': '제임스 카메론',\n",
      "          'movie_name': '타이타닉',\n",
      "          'movie_year': 1997}}\n"
     ]
    }
   ],
   "source": [
    "# 인수의 위치와 지정 인수\n",
    "import pprint\n",
    "\n",
    "movies = dict()\n",
    "def register_movie(name=None, director=None, year=1970):\n",
    "    movie = dict(movie_name=name, movie_director=director, movie_year=year)\n",
    "    movies[name] = movie\n",
    "\n",
    "register_movie('타이타닉', 1997, '제임스 카메론')\n",
    "pprint.pprint(movies)\n",
    "\n",
    "register_movie(name='타이타닉', year=1997, director='제임스 카메론')\n",
    "pprint.pprint(movies)\n"
   ]
  },
  {
   "cell_type": "code",
   "execution_count": 72,
   "id": "6eef2f5a-d552-484d-b899-e0ae664552fa",
   "metadata": {},
   "outputs": [
    {
     "name": "stdout",
     "output_type": "stream",
     "text": [
      "{'movie_director': '제임스 카메론', 'movie_name': '타이타닉', 'movie_year': 97}\n",
      "{'타이타닉': {'movie_director': '제임스 카메론',\n",
      "          'movie_name': '타이타닉',\n",
      "          'movie_year': 1997}}\n"
     ]
    }
   ],
   "source": [
    "# 인수의 위치와 지정 인수\n",
    "import pprint\n",
    "\n",
    "movies = dict(타이타닉=dict(movie_name='타이타닉', movie_director='제임스 카메론', movie_year=97))\n",
    "\n",
    "def fix_movie_year(movie):\n",
    "    if movie['movie_year'] < 100:\n",
    "        movie['movie_year'] = movie['movie_year'] + 1900\n",
    "    movies[movie['movie_name']] = movie\n",
    "\n",
    "movie = movies['타이타닉']\n",
    "pprint.pprint(movie)\n",
    "\n",
    "fix_movie_year(movie)\n",
    "pprint.pprint(movies)"
   ]
  },
  {
   "cell_type": "code",
   "execution_count": 73,
   "id": "b421434e-9111-4a08-90fb-5fab9121f5e2",
   "metadata": {},
   "outputs": [
    {
     "name": "stdout",
     "output_type": "stream",
     "text": [
      "bar\n"
     ]
    }
   ],
   "source": [
    "# def 또한 객체입니다\n",
    "test = False if test else True\n",
    "if test:\n",
    "    def print_message():\n",
    "        print('foo')\n",
    "else:\n",
    "    def print_message():\n",
    "        print('bar')\n",
    "\n",
    "print_message()"
   ]
  },
  {
   "cell_type": "code",
   "execution_count": 76,
   "id": "9c2c7de0-beb3-4fca-9d6b-8d538458d0e0",
   "metadata": {},
   "outputs": [
    {
     "data": {
      "text/plain": [
       "8"
      ]
     },
     "execution_count": 76,
     "metadata": {},
     "output_type": "execute_result"
    }
   ],
   "source": [
    "# 함수의 정의/생성/호출\n",
    "import common\n",
    "common.times(2, 4)"
   ]
  },
  {
   "cell_type": "code",
   "execution_count": 79,
   "id": "85a1455f-3ef6-4626-a179-ae8c41301dde",
   "metadata": {},
   "outputs": [
    {
     "data": {
      "text/plain": [
       "{'E', 'F', 'I', 'L', 'N', 'T', 'X'}"
      ]
     },
     "execution_count": 79,
     "metadata": {},
     "output_type": "execute_result"
    }
   ],
   "source": [
    "# 시퀀스의 교집합 구하기 - 시퀀스 형태의 자료형에 대해서만 동작하도록 구현 (list, str)\n",
    "\n",
    "def intersection(seq1, seq2):\n",
    "    setX = set()\n",
    "    for s1 in seq1:\n",
    "        if s1 in seq2:\n",
    "            setX.add(s1)\n",
    "    return setX\n",
    "\n",
    "# 문자열 교집합\n",
    "intersection(\"NETFLIX\", \"XILFTEN\")"
   ]
  },
  {
   "cell_type": "code",
   "execution_count": 81,
   "id": "9855470b-8a2b-4372-ba45-5b1590cbc7b7",
   "metadata": {},
   "outputs": [
    {
     "data": {
      "text/plain": [
       "{3, 4, 5}"
      ]
     },
     "execution_count": 81,
     "metadata": {},
     "output_type": "execute_result"
    }
   ],
   "source": [
    "# 숫자형 교집합\n",
    "intersection([1,2,3,4,5],[3,4,5,6,7])"
   ]
  },
  {
   "cell_type": "code",
   "execution_count": 83,
   "id": "d4416f9d-e0e2-4904-bf1d-a6e0510bf4f4",
   "metadata": {},
   "outputs": [
    {
     "data": {
      "text/plain": [
       "{5, 6}"
      ]
     },
     "execution_count": 83,
     "metadata": {},
     "output_type": "execute_result"
    }
   ],
   "source": [
    "# 집합의 교집합\n",
    "intersection({1,2,3,4,5,6},{10,9,8,7,6,5})"
   ]
  },
  {
   "cell_type": "code",
   "execution_count": 84,
   "id": "bd8a04ba-cf33-46a5-a58e-ef5e9687b397",
   "metadata": {},
   "outputs": [
    {
     "data": {
      "text/plain": [
       "{'age', 'name'}"
      ]
     },
     "execution_count": 84,
     "metadata": {},
     "output_type": "execute_result"
    }
   ],
   "source": [
    "# 맵의 교집합 (원하는 동작이 아님)\n",
    "intersection(dict(name='name', age=30), dict(name='name2', age=40))"
   ]
  },
  {
   "cell_type": "code",
   "execution_count": 85,
   "id": "337aa280-0d95-44d0-8a31-273a2c3ee736",
   "metadata": {},
   "outputs": [
    {
     "data": {
      "text/plain": [
       "True"
      ]
     },
     "execution_count": 85,
     "metadata": {},
     "output_type": "execute_result"
    }
   ],
   "source": [
    "bool(1)"
   ]
  },
  {
   "cell_type": "code",
   "execution_count": null,
   "id": "90025265-54f7-4373-b9e5-5b7cdda360c4",
   "metadata": {},
   "outputs": [],
   "source": []
  }
 ],
 "metadata": {
  "kernelspec": {
   "display_name": "Python 3 (ipykernel)",
   "language": "python",
   "name": "python3"
  },
  "language_info": {
   "codemirror_mode": {
    "name": "ipython",
    "version": 3
   },
   "file_extension": ".py",
   "mimetype": "text/x-python",
   "name": "python",
   "nbconvert_exporter": "python",
   "pygments_lexer": "ipython3",
   "version": "3.9.12"
  }
 },
 "nbformat": 4,
 "nbformat_minor": 5
}
