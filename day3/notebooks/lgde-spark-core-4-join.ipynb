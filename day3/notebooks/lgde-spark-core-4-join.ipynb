{
 "cells": [
  {
   "cell_type": "markdown",
   "metadata": {},
   "source": [
    "# 4교시 조인 연산\n",
    "\n",
    "### 목차\n",
    "* [1. 조인 유형](#1.-조인-유형)\n",
    "* [2. Inner Join](#2.-Inner-Join)\n",
    "* [3. Outer Join](#3.-Outer-Join)\n",
    "* [4. 조인 유의사항](#4.-조인-유의사항)\n",
    "* [참고자료](#참고자료)"
   ]
  },
  {
   "cell_type": "markdown",
   "metadata": {},
   "source": [
    "### 1. 조인 유형"
   ]
  },
  {
   "cell_type": "code",
   "execution_count": 1,
   "metadata": {},
   "outputs": [],
   "source": [
    "from pyspark.sql import *\n",
    "from pyspark.sql.functions import *\n",
    "from pyspark.sql.types import *\n",
    "from IPython.display import display, display_pretty, clear_output, JSON\n",
    "\n",
    "spark = (\n",
    "    SparkSession\n",
    "    .builder\n",
    "    .config(\"spark.sql.session.timeZone\", \"Asia/Seoul\")\n",
    "    .getOrCreate()\n",
    ")\n",
    "# 노트북에서 테이블 형태로 데이터 프레임 출력을 위한 설정을 합니다\n",
    "spark.conf.set(\"spark.sql.repl.eagerEval.enabled\", True) # display enabled\n",
    "spark.conf.set(\"spark.sql.repl.eagerEval.truncate\", 100) # display output columns size"
   ]
  },
  {
   "cell_type": "markdown",
   "metadata": {},
   "source": [
    "### JOIN 학습을 위해 상품은 단 하나만 구매할 수 있다고 가정하여 아래와 같은 테이블이 존재합니다\n",
    "#### 정보 1. 고객은 4명이지만, 1명은 탈퇴하여 존재하지 않습니다\n",
    "| 고객 아이디 (u_id) | 고객 이름 (u_name) | 고객 성별 (u_gender) |\n",
    "| - | - | - |\n",
    "| 1 | 정휘센 | 남 |\n",
    "| 2 | 김싸이언 | 남 |\n",
    "| 3 | 박트롬 | 여 |\n",
    "\n",
    "#### 정보 2. 구매 상품은 3개이며, 탈퇴한 고객의 상품정보가 남아있습니다\n",
    "| 구매 고객 아이디 (u_id) | 구매 상품 이름 (p_name) | 구매 상품 가격 (p_amount) |\n",
    "| - | - | - |\n",
    "| 2 | LG DIOS | 2,000,000 |\n",
    "| 3 | LG Cyon | 1,800,000 |\n",
    "| 4 | LG Computer | 4,500,000 |\n"
   ]
  },
  {
   "cell_type": "code",
   "execution_count": 3,
   "metadata": {},
   "outputs": [
    {
     "name": "stdout",
     "output_type": "stream",
     "text": [
      "root\n",
      " |-- u_id: long (nullable = true)\n",
      " |-- u_name: string (nullable = true)\n",
      " |-- u_gender: string (nullable = true)\n",
      "\n"
     ]
    },
    {
     "data": {
      "text/html": [
       "<table border='1'>\n",
       "<tr><th>u_id</th><th>u_name</th><th>u_gender</th></tr>\n",
       "<tr><td>1</td><td>정휘센</td><td>남</td></tr>\n",
       "<tr><td>2</td><td>김싸이언</td><td>남</td></tr>\n",
       "<tr><td>3</td><td>박트롬</td><td>여</td></tr>\n",
       "</table>\n"
      ],
      "text/plain": [
       "+----+--------+--------+\n",
       "|u_id|  u_name|u_gender|\n",
       "+----+--------+--------+\n",
       "|   1|  정휘센|      남|\n",
       "|   2|김싸이언|      남|\n",
       "|   3|  박트롬|      여|\n",
       "+----+--------+--------+"
      ]
     },
     "metadata": {},
     "output_type": "display_data"
    },
    {
     "name": "stdout",
     "output_type": "stream",
     "text": [
      "root\n",
      " |-- p_uid: long (nullable = true)\n",
      " |-- p_name: string (nullable = true)\n",
      " |-- p_amont: long (nullable = true)\n",
      "\n"
     ]
    },
    {
     "data": {
      "text/html": [
       "<table border='1'>\n",
       "<tr><th>p_uid</th><th>p_name</th><th>p_amont</th></tr>\n",
       "<tr><td>2</td><td>LG DIOS</td><td>2000000</td></tr>\n",
       "<tr><td>3</td><td>LG Cyon</td><td>1800000</td></tr>\n",
       "<tr><td>4</td><td>LG Computer</td><td>4500000</td></tr>\n",
       "</table>\n"
      ],
      "text/plain": [
       "+-----+-----------+-------+\n",
       "|p_uid|     p_name|p_amont|\n",
       "+-----+-----------+-------+\n",
       "|    2|    LG DIOS|2000000|\n",
       "|    3|    LG Cyon|1800000|\n",
       "|    4|LG Computer|4500000|\n",
       "+-----+-----------+-------+"
      ]
     },
     "metadata": {},
     "output_type": "display_data"
    }
   ],
   "source": [
    "user = spark.createDataFrame([\n",
    "    (1, \"정휘센\", \"남\"),\n",
    "    (2, \"김싸이언\", \"남\"),\n",
    "    (3, \"박트롬\", \"여\")\n",
    "]).toDF(\"u_id\", \"u_name\", \"u_gender\")\n",
    "user.printSchema()\n",
    "display(user)\n",
    "    \n",
    "purchase = spark.createDataFrame([\n",
    "    (2, \"LG DIOS\", 2000000),\n",
    "    (3, \"LG Cyon\", 1800000),\n",
    "    (4, \"LG Computer\", 4500000)\n",
    "]).toDF(\"p_uid\", \"p_name\", \"p_amont\")\n",
    "purchase.printSchema()\n",
    "display(purchase)"
   ]
  },
  {
   "cell_type": "markdown",
   "metadata": {},
   "source": [
    "## 2. Inner Join\n",
    "### 2.1 구매 정보와 일치하는 고객 정보를 조인 (inner)"
   ]
  },
  {
   "cell_type": "code",
   "execution_count": 4,
   "metadata": {},
   "outputs": [
    {
     "name": "stdout",
     "output_type": "stream",
     "text": [
      "+----+--------+--------+-----+-------+-------+\n",
      "|u_id|  u_name|u_gender|p_uid| p_name|p_amont|\n",
      "+----+--------+--------+-----+-------+-------+\n",
      "|   3|  박트롬|      여|    3|LG Cyon|1800000|\n",
      "|   2|김싸이언|      남|    2|LG DIOS|2000000|\n",
      "+----+--------+--------+-----+-------+-------+\n",
      "\n"
     ]
    },
    {
     "data": {
      "text/plain": [
       "2"
      ]
     },
     "execution_count": 4,
     "metadata": {},
     "output_type": "execute_result"
    }
   ],
   "source": [
    "user.join(purchase, user.u_id == purchase.p_uid).show()\n",
    "user.join(purchase, user.u_id == purchase.p_uid, \"inner\").count()"
   ]
  },
  {
   "cell_type": "markdown",
   "metadata": {},
   "source": [
    "### <font color=green>1. [기본]</font> 고객 정보 \"data/tbl_user\", 제품 정보 \"data/tbl_purchase\" CSV 파일을 읽고\n",
    "#### 1. 각각 스키마를 출력하세요\n",
    "#### 2. 각각 데이터를 출력하세요\n",
    "#### 3. 고객(tbl_user) 테이블의 u_id 와 제품(tbl_purchase) 테이블의 p_uid 는 고객아이디 입니다\n",
    "#### 4. 고객 테이블을 기준으로 어떤 제품을 구매하였는지 inner join 을 통해 조인해 주세요\n",
    "#### 5. 조인된 최종 테이블의 스키마와 데이터를 출력해 주세요\n",
    "\n",
    "<details><summary>[실습1] 출력 결과 확인 </summary>\n",
    "\n",
    "> 아래와 유사하게 방식으로 작성 되었다면 정답입니다\n",
    "\n",
    "```python\n",
    "left = (\n",
    "    spark.read.format(\"csv\")\n",
    "    .option(\"header\", \"true\")\n",
    "    .option(\"inferSchema\", \"true\")\n",
    "    .load(\"data/tbl_user.csv\")\n",
    ")\n",
    "left.printSchema()\n",
    "left.show()\n",
    "\n",
    "right = (\n",
    "    spark.read.format(\"csv\")\n",
    "    .option(\"header\", \"true\")\n",
    "    .option(\"inferSchema\", \"true\")\n",
    "    .load(\"data/tbl_purchase.csv\")\n",
    ")\n",
    "right.printSchema()\n",
    "right.show()\n",
    "\n",
    "join_codition = left.u_id == right.p_uid\n",
    "answer = left.join(right, join_codition, \"inner\")\n",
    "answer.printSchema()\n",
    "display(answer)\n",
    "```\n",
    "\n",
    "</details>\n"
   ]
  },
  {
   "cell_type": "code",
   "execution_count": 28,
   "metadata": {},
   "outputs": [
    {
     "name": "stdout",
     "output_type": "stream",
     "text": [
      "root\n",
      " |-- u_id: integer (nullable = true)\n",
      " |-- u_name: string (nullable = true)\n",
      " |-- u_gender: string (nullable = true)\n",
      " |-- u_signup: integer (nullable = true)\n",
      "\n",
      "+----+----------+--------+--------+\n",
      "|u_id|    u_name|u_gender|u_signup|\n",
      "+----+----------+--------+--------+\n",
      "|   1|    정휘센|      남|19700808|\n",
      "|   2|  김싸이언|      남|19710201|\n",
      "|   3|    박트롬|      여|19951030|\n",
      "|   4|    청소기|      남|19770329|\n",
      "|   5|유코드제로|      여|20021029|\n",
      "|   6|  윤디오스|      남|20040101|\n",
      "|   7|  임모바일|      남|20040807|\n",
      "|   8|  조노트북|      여|20161201|\n",
      "|   9|  최컴퓨터|      남|20201124|\n",
      "+----+----------+--------+--------+\n",
      "\n",
      "root\n",
      " |-- p_time: integer (nullable = true)\n",
      " |-- p_uid: integer (nullable = true)\n",
      " |-- p_id: integer (nullable = true)\n",
      " |-- p_name: string (nullable = true)\n",
      " |-- p_amount: integer (nullable = true)\n",
      "\n",
      "+----------+-----+----+-----------+--------+\n",
      "|    p_time|p_uid|p_id|     p_name|p_amount|\n",
      "+----------+-----+----+-----------+--------+\n",
      "|1603651550|    0|1000|GoldStar TV|  100000|\n",
      "|1603651550|    1|2000|    LG DIOS| 2000000|\n",
      "|1603694755|    1|2000|    LG Gram| 1800000|\n",
      "|1603673500|    2|2001|    LG Cyon| 1400000|\n",
      "|1603652155|    3|2002|      LG TV| 1000000|\n",
      "|1603674500|    4|2003|LG Computer| 4500000|\n",
      "|1603665955|    5|2004|    LG Gram| 3500000|\n",
      "|1603666155|    5|2004|      LG TV| 2500000|\n",
      "+----------+-----+----+-----------+--------+\n",
      "\n",
      "root\n",
      " |-- u_id: integer (nullable = true)\n",
      " |-- u_name: string (nullable = true)\n",
      " |-- u_gender: string (nullable = true)\n",
      " |-- u_signup: integer (nullable = true)\n",
      " |-- p_time: integer (nullable = true)\n",
      " |-- p_uid: integer (nullable = true)\n",
      " |-- p_id: integer (nullable = true)\n",
      " |-- p_name: string (nullable = true)\n",
      " |-- p_amount: integer (nullable = true)\n",
      "\n"
     ]
    },
    {
     "data": {
      "text/html": [
       "<table border='1'>\n",
       "<tr><th>u_id</th><th>u_name</th><th>u_gender</th><th>u_signup</th><th>p_time</th><th>p_uid</th><th>p_id</th><th>p_name</th><th>p_amount</th></tr>\n",
       "<tr><td>1</td><td>정휘센</td><td>남</td><td>19700808</td><td>1603651550</td><td>1</td><td>2000</td><td>LG DIOS</td><td>2000000</td></tr>\n",
       "<tr><td>1</td><td>정휘센</td><td>남</td><td>19700808</td><td>1603694755</td><td>1</td><td>2000</td><td>LG Gram</td><td>1800000</td></tr>\n",
       "<tr><td>2</td><td>김싸이언</td><td>남</td><td>19710201</td><td>1603673500</td><td>2</td><td>2001</td><td>LG Cyon</td><td>1400000</td></tr>\n",
       "<tr><td>3</td><td>박트롬</td><td>여</td><td>19951030</td><td>1603652155</td><td>3</td><td>2002</td><td>LG TV</td><td>1000000</td></tr>\n",
       "<tr><td>4</td><td>청소기</td><td>남</td><td>19770329</td><td>1603674500</td><td>4</td><td>2003</td><td>LG Computer</td><td>4500000</td></tr>\n",
       "<tr><td>5</td><td>유코드제로</td><td>여</td><td>20021029</td><td>1603665955</td><td>5</td><td>2004</td><td>LG Gram</td><td>3500000</td></tr>\n",
       "<tr><td>5</td><td>유코드제로</td><td>여</td><td>20021029</td><td>1603666155</td><td>5</td><td>2004</td><td>LG TV</td><td>2500000</td></tr>\n",
       "</table>\n"
      ],
      "text/plain": [
       "+----+----------+--------+--------+----------+-----+----+-----------+--------+\n",
       "|u_id|    u_name|u_gender|u_signup|    p_time|p_uid|p_id|     p_name|p_amount|\n",
       "+----+----------+--------+--------+----------+-----+----+-----------+--------+\n",
       "|   1|    정휘센|      남|19700808|1603651550|    1|2000|    LG DIOS| 2000000|\n",
       "|   1|    정휘센|      남|19700808|1603694755|    1|2000|    LG Gram| 1800000|\n",
       "|   2|  김싸이언|      남|19710201|1603673500|    2|2001|    LG Cyon| 1400000|\n",
       "|   3|    박트롬|      여|19951030|1603652155|    3|2002|      LG TV| 1000000|\n",
       "|   4|    청소기|      남|19770329|1603674500|    4|2003|LG Computer| 4500000|\n",
       "|   5|유코드제로|      여|20021029|1603665955|    5|2004|    LG Gram| 3500000|\n",
       "|   5|유코드제로|      여|20021029|1603666155|    5|2004|      LG TV| 2500000|\n",
       "+----+----------+--------+--------+----------+-----+----+-----------+--------+"
      ]
     },
     "metadata": {},
     "output_type": "display_data"
    }
   ],
   "source": [
    "# 여기에 실습 코드를 작성하고 실행하세요 (Shift+Enter)\n"
   ]
  },
  {
   "cell_type": "markdown",
   "metadata": {},
   "source": [
    "## 3. Outer Join\n",
    "### 3.1 모든 고객의 정보 구매 정보를 조인 (left_outer)"
   ]
  },
  {
   "cell_type": "code",
   "execution_count": 5,
   "metadata": {},
   "outputs": [
    {
     "name": "stdout",
     "output_type": "stream",
     "text": [
      "+----+--------+--------+-----+-------+-------+\n",
      "|u_id|  u_name|u_gender|p_uid| p_name|p_amont|\n",
      "+----+--------+--------+-----+-------+-------+\n",
      "|   1|  정휘센|      남| null|   null|   null|\n",
      "|   2|김싸이언|      남|    2|LG DIOS|2000000|\n",
      "|   3|  박트롬|      여|    3|LG Cyon|1800000|\n",
      "+----+--------+--------+-----+-------+-------+\n",
      "\n"
     ]
    }
   ],
   "source": [
    "user.join(purchase, user.u_id == purchase.p_uid, \"left_outer\").orderBy(purchase.p_uid.asc()).show()"
   ]
  },
  {
   "cell_type": "markdown",
   "metadata": {},
   "source": [
    "### 3-2. 모든 상품에 대한 고객 정보를 조인 (right_outer)"
   ]
  },
  {
   "cell_type": "code",
   "execution_count": 6,
   "metadata": {},
   "outputs": [
    {
     "name": "stdout",
     "output_type": "stream",
     "text": [
      "+----+--------+--------+-----+-----------+-------+\n",
      "|u_id|  u_name|u_gender|p_uid|     p_name|p_amont|\n",
      "+----+--------+--------+-----+-----------+-------+\n",
      "|   2|김싸이언|      남|    2|    LG DIOS|2000000|\n",
      "|   3|  박트롬|      여|    3|    LG Cyon|1800000|\n",
      "|null|    null|    null|    4|LG Computer|4500000|\n",
      "+----+--------+--------+-----+-----------+-------+\n",
      "\n"
     ]
    }
   ],
   "source": [
    "user.join(purchase, user.u_id == purchase.p_uid, \"right_outer\").orderBy(purchase.p_uid.asc()).show()"
   ]
  },
  {
   "cell_type": "markdown",
   "metadata": {},
   "source": [
    "### 3-3. 모든 고객과 상품에 대한 정보를 조인 (full_outer)"
   ]
  },
  {
   "cell_type": "code",
   "execution_count": 7,
   "metadata": {},
   "outputs": [
    {
     "name": "stdout",
     "output_type": "stream",
     "text": [
      "+----+--------+--------+-----+-----------+-------+\n",
      "|u_id|  u_name|u_gender|p_uid|     p_name|p_amont|\n",
      "+----+--------+--------+-----+-----------+-------+\n",
      "|   1|  정휘센|      남| null|       null|   null|\n",
      "|   2|김싸이언|      남|    2|    LG DIOS|2000000|\n",
      "|   3|  박트롬|      여|    3|    LG Cyon|1800000|\n",
      "|null|    null|    null|    4|LG Computer|4500000|\n",
      "+----+--------+--------+-----+-----------+-------+\n",
      "\n"
     ]
    }
   ],
   "source": [
    "user.join(purchase, user.u_id == purchase.p_uid, \"full_outer\").orderBy(purchase.p_uid.asc()).show()"
   ]
  },
  {
   "cell_type": "markdown",
   "metadata": {},
   "source": [
    "### <font color=green>2. [기본]</font> 고객 정보 \"data/tbl_user\", 제품 정보 \"data/tbl_purchase\" CSV 파일을 읽고\n",
    "#### 1. 각각 스키마를 출력하세요\n",
    "#### 2. 각각 데이터를 출력하세요\n",
    "#### 3. 고객(tbl_user) 테이블의 u_id 와 제품(tbl_purchase) 테이블의 p_uid 는 고객아이디 입니다\n",
    "#### 4. 모든 상품을 기준으로 구매하 고객정보를 조인해 주세요 (left: purchase, right: user, join: left_outer)\n",
    "#### 5. 조인된 최종 테이블의 스키마와 데이터를 출력해 주세요\n",
    "#### 6. 출력시에 상품 가격의 내림차순으로 정렬해 주세요\n",
    "\n",
    "<details><summary>[실습2] 출력 결과 확인 </summary>\n",
    "\n",
    "> 아래와 유사하게 방식으로 작성 되었다면 정답입니다\n",
    "\n",
    "```python\n",
    "left = (\n",
    "    spark.read.format(\"csv\")\n",
    "    .option(\"header\", \"true\")\n",
    "    .option(\"inferSchema\", \"true\")\n",
    "    .load(\"data/tbl_purchase.csv\")\n",
    ")\n",
    "left.printSchema()\n",
    "# left.show()\n",
    "\n",
    "right = (\n",
    "    spark.read.format(\"csv\")\n",
    "    .option(\"header\", \"true\")\n",
    "    .option(\"inferSchema\", \"true\")\n",
    "    .load(\"data/tbl_user.csv\")\n",
    ")\n",
    "right.printSchema()\n",
    "# right.show()\n",
    "\n",
    "join_codition = left.p_uid == right.u_id\n",
    "answer = left.join(right, join_codition, \"left_outer\")\n",
    "answer.printSchema()\n",
    "display(answer.orderBy(desc(\"p_amount\")))\n",
    "```\n",
    "\n",
    "</details>\n"
   ]
  },
  {
   "cell_type": "code",
   "execution_count": 25,
   "metadata": {
    "collapsed": true,
    "jupyter": {
     "outputs_hidden": true
    }
   },
   "outputs": [
    {
     "name": "stdout",
     "output_type": "stream",
     "text": [
      "root\n",
      " |-- p_time: integer (nullable = true)\n",
      " |-- p_uid: integer (nullable = true)\n",
      " |-- p_id: integer (nullable = true)\n",
      " |-- p_name: string (nullable = true)\n",
      " |-- p_amount: integer (nullable = true)\n",
      "\n",
      "root\n",
      " |-- u_id: integer (nullable = true)\n",
      " |-- u_name: string (nullable = true)\n",
      " |-- u_gender: string (nullable = true)\n",
      " |-- u_signup: integer (nullable = true)\n",
      "\n",
      "root\n",
      " |-- p_time: integer (nullable = true)\n",
      " |-- p_uid: integer (nullable = true)\n",
      " |-- p_id: integer (nullable = true)\n",
      " |-- p_name: string (nullable = true)\n",
      " |-- p_amount: integer (nullable = true)\n",
      " |-- u_id: integer (nullable = true)\n",
      " |-- u_name: string (nullable = true)\n",
      " |-- u_gender: string (nullable = true)\n",
      " |-- u_signup: integer (nullable = true)\n",
      "\n"
     ]
    },
    {
     "data": {
      "text/html": [
       "<table border='1'>\n",
       "<tr><th>p_time</th><th>p_uid</th><th>p_id</th><th>p_name</th><th>p_amount</th><th>u_id</th><th>u_name</th><th>u_gender</th><th>u_signup</th></tr>\n",
       "<tr><td>1603674500</td><td>4</td><td>2003</td><td>LG Computer</td><td>4500000</td><td>4</td><td>청소기</td><td>남</td><td>19770329</td></tr>\n",
       "<tr><td>1603665955</td><td>5</td><td>2004</td><td>LG Gram</td><td>3500000</td><td>5</td><td>유코드제로</td><td>여</td><td>20021029</td></tr>\n",
       "<tr><td>1603666155</td><td>5</td><td>2004</td><td>LG TV</td><td>2500000</td><td>5</td><td>유코드제로</td><td>여</td><td>20021029</td></tr>\n",
       "<tr><td>1603651550</td><td>1</td><td>2000</td><td>LG DIOS</td><td>2000000</td><td>1</td><td>정휘센</td><td>남</td><td>19700808</td></tr>\n",
       "<tr><td>1603694755</td><td>1</td><td>2000</td><td>LG Gram</td><td>1800000</td><td>1</td><td>정휘센</td><td>남</td><td>19700808</td></tr>\n",
       "<tr><td>1603673500</td><td>2</td><td>2001</td><td>LG Cyon</td><td>1400000</td><td>2</td><td>김싸이언</td><td>남</td><td>19710201</td></tr>\n",
       "<tr><td>1603652155</td><td>3</td><td>2002</td><td>LG TV</td><td>1000000</td><td>3</td><td>박트롬</td><td>여</td><td>19951030</td></tr>\n",
       "<tr><td>1603651550</td><td>0</td><td>1000</td><td>GoldStar TV</td><td>100000</td><td>null</td><td>null</td><td>null</td><td>null</td></tr>\n",
       "</table>\n"
      ],
      "text/plain": [
       "+----------+-----+----+-----------+--------+----+----------+--------+--------+\n",
       "|    p_time|p_uid|p_id|     p_name|p_amount|u_id|    u_name|u_gender|u_signup|\n",
       "+----------+-----+----+-----------+--------+----+----------+--------+--------+\n",
       "|1603674500|    4|2003|LG Computer| 4500000|   4|    청소기|      남|19770329|\n",
       "|1603665955|    5|2004|    LG Gram| 3500000|   5|유코드제로|      여|20021029|\n",
       "|1603666155|    5|2004|      LG TV| 2500000|   5|유코드제로|      여|20021029|\n",
       "|1603651550|    1|2000|    LG DIOS| 2000000|   1|    정휘센|      남|19700808|\n",
       "|1603694755|    1|2000|    LG Gram| 1800000|   1|    정휘센|      남|19700808|\n",
       "|1603673500|    2|2001|    LG Cyon| 1400000|   2|  김싸이언|      남|19710201|\n",
       "|1603652155|    3|2002|      LG TV| 1000000|   3|    박트롬|      여|19951030|\n",
       "|1603651550|    0|1000|GoldStar TV|  100000|null|      null|    null|    null|\n",
       "+----------+-----+----+-----------+--------+----+----------+--------+--------+"
      ]
     },
     "metadata": {},
     "output_type": "display_data"
    }
   ],
   "source": [
    "# 여기에 실습 코드를 작성하고 실행하세요 (Shift+Enter)\n"
   ]
  },
  {
   "cell_type": "markdown",
   "metadata": {},
   "source": [
    "### <font color=blue>3. [중급]</font> 고객 정보 \"data/tbl_user\", 제품 정보 \"data/tbl_purchase\" CSV 파일을 읽고\n",
    "#### 1. 각각 스키마를 출력하세요\n",
    "#### 2. 각각 데이터를 출력하세요\n",
    "#### 3. 고객(tbl_user) 테이블의 u_id 와 제품(tbl_purchase) 테이블의 p_uid 는 고객아이디 입니다\n",
    "#### 4. 모든 고객을 기준으로 구매한 상품 정보를 조인해 주세요 (left: user, right: purchase, join: left_outer)\n",
    "#### 5. 조인된 최종 테이블의 스키마와 데이터를 출력해 주세요\n",
    "#### 6. 출력시에 상품 가격(tbl_purchase.p_amount)의 내림차순으로 정렬해 주세요\n",
    "#### 7. 상품가격이 없는 경우에는 등록일자(tbl_user.u_signup)가 최신으로 정렬해 주세요\n",
    "\n",
    "<details><summary>[실습3] 출력 결과 확인 </summary>\n",
    "\n",
    "> 아래와 유사하게 방식으로 작성 되었다면 정답입니다\n",
    "\n",
    "```python\n",
    "left = (\n",
    "    spark.read.format(\"csv\")\n",
    "    .option(\"header\", \"true\")\n",
    "    .option(\"inferSchema\", \"true\")\n",
    "    .load(\"data/tbl_user.csv\")\n",
    ")\n",
    "left.printSchema()\n",
    "# left.show()\n",
    "\n",
    "right = (\n",
    "    spark.read.format(\"csv\")\n",
    "    .option(\"header\", \"true\")\n",
    "    .option(\"inferSchema\", \"true\")\n",
    "    .load(\"data/tbl_purchase.csv\")\n",
    ")\n",
    "right.printSchema()\n",
    "# right.show()\n",
    "\n",
    "join_codition = left.u_id == right.p_uid\n",
    "answer = left.join(right, join_codition, \"left_outer\")\n",
    "answer.printSchema()\n",
    "display(answer.orderBy(desc(\"p_amount\"), desc(\"u_signup\")))\n",
    "```\n",
    "\n",
    "</details>\n"
   ]
  },
  {
   "cell_type": "code",
   "execution_count": 24,
   "metadata": {
    "collapsed": true,
    "jupyter": {
     "outputs_hidden": true
    }
   },
   "outputs": [
    {
     "name": "stdout",
     "output_type": "stream",
     "text": [
      "root\n",
      " |-- u_id: integer (nullable = true)\n",
      " |-- u_name: string (nullable = true)\n",
      " |-- u_gender: string (nullable = true)\n",
      " |-- u_signup: integer (nullable = true)\n",
      "\n",
      "root\n",
      " |-- p_time: integer (nullable = true)\n",
      " |-- p_uid: integer (nullable = true)\n",
      " |-- p_id: integer (nullable = true)\n",
      " |-- p_name: string (nullable = true)\n",
      " |-- p_amount: integer (nullable = true)\n",
      "\n",
      "root\n",
      " |-- u_id: integer (nullable = true)\n",
      " |-- u_name: string (nullable = true)\n",
      " |-- u_gender: string (nullable = true)\n",
      " |-- u_signup: integer (nullable = true)\n",
      " |-- p_time: integer (nullable = true)\n",
      " |-- p_uid: integer (nullable = true)\n",
      " |-- p_id: integer (nullable = true)\n",
      " |-- p_name: string (nullable = true)\n",
      " |-- p_amount: integer (nullable = true)\n",
      "\n"
     ]
    },
    {
     "data": {
      "text/html": [
       "<table border='1'>\n",
       "<tr><th>u_id</th><th>u_name</th><th>u_gender</th><th>u_signup</th><th>p_time</th><th>p_uid</th><th>p_id</th><th>p_name</th><th>p_amount</th></tr>\n",
       "<tr><td>4</td><td>청소기</td><td>남</td><td>19770329</td><td>1603674500</td><td>4</td><td>2003</td><td>LG Computer</td><td>4500000</td></tr>\n",
       "<tr><td>5</td><td>유코드제로</td><td>여</td><td>20021029</td><td>1603665955</td><td>5</td><td>2004</td><td>LG Gram</td><td>3500000</td></tr>\n",
       "<tr><td>5</td><td>유코드제로</td><td>여</td><td>20021029</td><td>1603666155</td><td>5</td><td>2004</td><td>LG TV</td><td>2500000</td></tr>\n",
       "<tr><td>1</td><td>정휘센</td><td>남</td><td>19700808</td><td>1603651550</td><td>1</td><td>2000</td><td>LG DIOS</td><td>2000000</td></tr>\n",
       "<tr><td>1</td><td>정휘센</td><td>남</td><td>19700808</td><td>1603694755</td><td>1</td><td>2000</td><td>LG Gram</td><td>1800000</td></tr>\n",
       "<tr><td>2</td><td>김싸이언</td><td>남</td><td>19710201</td><td>1603673500</td><td>2</td><td>2001</td><td>LG Cyon</td><td>1400000</td></tr>\n",
       "<tr><td>3</td><td>박트롬</td><td>여</td><td>19951030</td><td>1603652155</td><td>3</td><td>2002</td><td>LG TV</td><td>1000000</td></tr>\n",
       "<tr><td>9</td><td>최컴퓨터</td><td>남</td><td>20201124</td><td>null</td><td>null</td><td>null</td><td>null</td><td>null</td></tr>\n",
       "<tr><td>8</td><td>조노트북</td><td>여</td><td>20161201</td><td>null</td><td>null</td><td>null</td><td>null</td><td>null</td></tr>\n",
       "<tr><td>7</td><td>임모바일</td><td>남</td><td>20040807</td><td>null</td><td>null</td><td>null</td><td>null</td><td>null</td></tr>\n",
       "<tr><td>6</td><td>윤디오스</td><td>남</td><td>20040101</td><td>null</td><td>null</td><td>null</td><td>null</td><td>null</td></tr>\n",
       "</table>\n"
      ],
      "text/plain": [
       "+----+----------+--------+--------+----------+-----+----+-----------+--------+\n",
       "|u_id|    u_name|u_gender|u_signup|    p_time|p_uid|p_id|     p_name|p_amount|\n",
       "+----+----------+--------+--------+----------+-----+----+-----------+--------+\n",
       "|   4|    청소기|      남|19770329|1603674500|    4|2003|LG Computer| 4500000|\n",
       "|   5|유코드제로|      여|20021029|1603665955|    5|2004|    LG Gram| 3500000|\n",
       "|   5|유코드제로|      여|20021029|1603666155|    5|2004|      LG TV| 2500000|\n",
       "|   1|    정휘센|      남|19700808|1603651550|    1|2000|    LG DIOS| 2000000|\n",
       "|   1|    정휘센|      남|19700808|1603694755|    1|2000|    LG Gram| 1800000|\n",
       "|   2|  김싸이언|      남|19710201|1603673500|    2|2001|    LG Cyon| 1400000|\n",
       "|   3|    박트롬|      여|19951030|1603652155|    3|2002|      LG TV| 1000000|\n",
       "|   9|  최컴퓨터|      남|20201124|      null| null|null|       null|    null|\n",
       "|   8|  조노트북|      여|20161201|      null| null|null|       null|    null|\n",
       "|   7|  임모바일|      남|20040807|      null| null|null|       null|    null|\n",
       "|   6|  윤디오스|      남|20040101|      null| null|null|       null|    null|\n",
       "+----+----------+--------+--------+----------+-----+----+-----------+--------+"
      ]
     },
     "metadata": {},
     "output_type": "display_data"
    }
   ],
   "source": [
    "# 여기에 실습 코드를 작성하고 실행하세요 (Shift+Enter)\n"
   ]
  },
  {
   "cell_type": "markdown",
   "metadata": {},
   "source": [
    "### <font color=red>4. [고급]</font> 고객 정보 \"data/tbl_user\", 제품 정보 \"data/tbl_purchase\" CSV 파일을 읽고\n",
    "#### 1. 각각 스키마를 출력하세요\n",
    "#### 2. 각각 데이터를 출력하세요\n",
    "#### 3. 고객(tbl_user) 테이블의 u_id 와 제품(tbl_purchase) 테이블의 p_uid 는 고객아이디 입니다\n",
    "#### 4. 모든 고객을 기준으로 모든 상품 정보를 조인해 주세요 (left: user, right: purchase, join: inner)\n",
    "#### 5. 조인된 최종 테이블의 스키마와 데이터를 출력해 주세요\n",
    "#### 6. 출력시에 상품 가격(tbl_purchase.p_amount)의 내림차순으로 정렬해 주세요\n",
    "#### 7. 상품가격이 없는 경우에는 등록일자(tbl_user.u_signup)가 최신으로 정렬해 주세요\n",
    "\n",
    "<details><summary>[실습4] 출력 결과 확인 </summary>\n",
    "\n",
    "> 아래와 유사하게 방식으로 작성 되었다면 정답입니다\n",
    "\n",
    "```python\n",
    "left = (\n",
    "    spark.read.format(\"csv\")\n",
    "    .option(\"header\", \"true\")\n",
    "    .option(\"inferSchema\", \"true\")\n",
    "    .load(\"data/tbl_user.csv\")\n",
    ")\n",
    "left.printSchema()\n",
    "# left.show()\n",
    "\n",
    "right = (\n",
    "    spark.read.format(\"csv\")\n",
    "    .option(\"header\", \"true\")\n",
    "    .option(\"inferSchema\", \"true\")\n",
    "    .load(\"data/tbl_purchase.csv\")\n",
    ")\n",
    "right.printSchema()\n",
    "# right.show()\n",
    "\n",
    "join_codition = left.u_id == right.p_uid\n",
    "answer = left.join(right, join_codition, \"inner\")\n",
    "answer.printSchema()\n",
    "display(answer.orderBy(desc(\"p_amount\"), desc(\"u_signup\")))\n",
    "```\n",
    "\n",
    "</details>\n"
   ]
  },
  {
   "cell_type": "code",
   "execution_count": 23,
   "metadata": {
    "collapsed": true,
    "jupyter": {
     "outputs_hidden": true
    }
   },
   "outputs": [
    {
     "name": "stdout",
     "output_type": "stream",
     "text": [
      "root\n",
      " |-- u_id: integer (nullable = true)\n",
      " |-- u_name: string (nullable = true)\n",
      " |-- u_gender: string (nullable = true)\n",
      " |-- u_signup: integer (nullable = true)\n",
      "\n",
      "root\n",
      " |-- p_time: integer (nullable = true)\n",
      " |-- p_uid: integer (nullable = true)\n",
      " |-- p_id: integer (nullable = true)\n",
      " |-- p_name: string (nullable = true)\n",
      " |-- p_amount: integer (nullable = true)\n",
      "\n",
      "root\n",
      " |-- u_id: integer (nullable = true)\n",
      " |-- u_name: string (nullable = true)\n",
      " |-- u_gender: string (nullable = true)\n",
      " |-- u_signup: integer (nullable = true)\n",
      " |-- p_time: integer (nullable = true)\n",
      " |-- p_uid: integer (nullable = true)\n",
      " |-- p_id: integer (nullable = true)\n",
      " |-- p_name: string (nullable = true)\n",
      " |-- p_amount: integer (nullable = true)\n",
      "\n"
     ]
    },
    {
     "data": {
      "text/html": [
       "<table border='1'>\n",
       "<tr><th>u_id</th><th>u_name</th><th>u_gender</th><th>u_signup</th><th>p_time</th><th>p_uid</th><th>p_id</th><th>p_name</th><th>p_amount</th></tr>\n",
       "<tr><td>4</td><td>청소기</td><td>남</td><td>19770329</td><td>1603674500</td><td>4</td><td>2003</td><td>LG Computer</td><td>4500000</td></tr>\n",
       "<tr><td>5</td><td>유코드제로</td><td>여</td><td>20021029</td><td>1603665955</td><td>5</td><td>2004</td><td>LG Gram</td><td>3500000</td></tr>\n",
       "<tr><td>5</td><td>유코드제로</td><td>여</td><td>20021029</td><td>1603666155</td><td>5</td><td>2004</td><td>LG TV</td><td>2500000</td></tr>\n",
       "<tr><td>1</td><td>정휘센</td><td>남</td><td>19700808</td><td>1603651550</td><td>1</td><td>2000</td><td>LG DIOS</td><td>2000000</td></tr>\n",
       "<tr><td>1</td><td>정휘센</td><td>남</td><td>19700808</td><td>1603694755</td><td>1</td><td>2000</td><td>LG Gram</td><td>1800000</td></tr>\n",
       "<tr><td>2</td><td>김싸이언</td><td>남</td><td>19710201</td><td>1603673500</td><td>2</td><td>2001</td><td>LG Cyon</td><td>1400000</td></tr>\n",
       "<tr><td>3</td><td>박트롬</td><td>여</td><td>19951030</td><td>1603652155</td><td>3</td><td>2002</td><td>LG TV</td><td>1000000</td></tr>\n",
       "</table>\n"
      ],
      "text/plain": [
       "+----+----------+--------+--------+----------+-----+----+-----------+--------+\n",
       "|u_id|    u_name|u_gender|u_signup|    p_time|p_uid|p_id|     p_name|p_amount|\n",
       "+----+----------+--------+--------+----------+-----+----+-----------+--------+\n",
       "|   4|    청소기|      남|19770329|1603674500|    4|2003|LG Computer| 4500000|\n",
       "|   5|유코드제로|      여|20021029|1603665955|    5|2004|    LG Gram| 3500000|\n",
       "|   5|유코드제로|      여|20021029|1603666155|    5|2004|      LG TV| 2500000|\n",
       "|   1|    정휘센|      남|19700808|1603651550|    1|2000|    LG DIOS| 2000000|\n",
       "|   1|    정휘센|      남|19700808|1603694755|    1|2000|    LG Gram| 1800000|\n",
       "|   2|  김싸이언|      남|19710201|1603673500|    2|2001|    LG Cyon| 1400000|\n",
       "|   3|    박트롬|      여|19951030|1603652155|    3|2002|      LG TV| 1000000|\n",
       "+----+----------+--------+--------+----------+-----+----+-----------+--------+"
      ]
     },
     "metadata": {},
     "output_type": "display_data"
    }
   ],
   "source": [
    "# 여기에 실습 코드를 작성하고 실행하세요 (Shift+Enter)\n"
   ]
  },
  {
   "cell_type": "markdown",
   "metadata": {},
   "source": [
    "### <font color=blue>5. [중급]</font> 실습 5. 고객 정보 \"data/tbl_user\", 제품 정보 \"data/tbl_purchase\" CSV 파일을 읽고\n",
    "#### 1. 각각 스키마를 출력하세요\n",
    "#### 2. 각각 데이터를 출력하세요\n",
    "#### 3. 고객(tbl_user) 테이블의 u_id 와 제품(tbl_purchase) 테이블의 p_uid 는 고객아이디 입니다\n",
    "#### 4. 모든 고객과 모든 상품 정보를 조인해 주세요 (left: user, right: purchase, join: full_outer)\n",
    "#### 5. 조인된 최종 테이블의 스키마와 데이터를 출력해 주세요\n",
    "#### 6. 출력시에 상품 가격(tbl_purchase.p_amount)의 내림차순으로 정렬해 주세요\n",
    "#### 7. 상품가격이 없는 경우에는 등록일자(tbl_user.u_signup)가 최신으로 정렬해 주세요\n",
    "\n",
    "<details><summary>[실습5] 출력 결과 확인 </summary>\n",
    "\n",
    "> 아래와 유사하게 방식으로 작성 되었다면 정답입니다\n",
    "\n",
    "```python\n",
    "left = (\n",
    "    spark.read.format(\"csv\")\n",
    "    .option(\"header\", \"true\")\n",
    "    .option(\"inferSchema\", \"true\")\n",
    "    .load(\"data/tbl_user.csv\")\n",
    ")\n",
    "left.printSchema()\n",
    "# left.show()\n",
    "\n",
    "right = (\n",
    "    spark.read.format(\"csv\")\n",
    "    .option(\"header\", \"true\")\n",
    "    .option(\"inferSchema\", \"true\")\n",
    "    .load(\"data/tbl_purchase.csv\")\n",
    ")\n",
    "right.printSchema()\n",
    "# right.show()\n",
    "\n",
    "join_codition = left.u_id == right.p_uid\n",
    "answer = left.join(right, join_codition, \"full_outer\")\n",
    "answer.printSchema()\n",
    "display(answer.orderBy(desc(\"p_amount\"), desc(\"u_signup\")))\n",
    "```\n",
    "\n",
    "</details>\n"
   ]
  },
  {
   "cell_type": "code",
   "execution_count": 22,
   "metadata": {
    "collapsed": true,
    "jupyter": {
     "outputs_hidden": true
    }
   },
   "outputs": [
    {
     "name": "stdout",
     "output_type": "stream",
     "text": [
      "root\n",
      " |-- u_id: integer (nullable = true)\n",
      " |-- u_name: string (nullable = true)\n",
      " |-- u_gender: string (nullable = true)\n",
      " |-- u_signup: integer (nullable = true)\n",
      "\n",
      "root\n",
      " |-- p_time: integer (nullable = true)\n",
      " |-- p_uid: integer (nullable = true)\n",
      " |-- p_id: integer (nullable = true)\n",
      " |-- p_name: string (nullable = true)\n",
      " |-- p_amount: integer (nullable = true)\n",
      "\n",
      "root\n",
      " |-- u_id: integer (nullable = true)\n",
      " |-- u_name: string (nullable = true)\n",
      " |-- u_gender: string (nullable = true)\n",
      " |-- u_signup: integer (nullable = true)\n",
      " |-- p_time: integer (nullable = true)\n",
      " |-- p_uid: integer (nullable = true)\n",
      " |-- p_id: integer (nullable = true)\n",
      " |-- p_name: string (nullable = true)\n",
      " |-- p_amount: integer (nullable = true)\n",
      "\n"
     ]
    },
    {
     "data": {
      "text/html": [
       "<table border='1'>\n",
       "<tr><th>u_id</th><th>u_name</th><th>u_gender</th><th>u_signup</th><th>p_time</th><th>p_uid</th><th>p_id</th><th>p_name</th><th>p_amount</th></tr>\n",
       "<tr><td>4</td><td>청소기</td><td>남</td><td>19770329</td><td>1603674500</td><td>4</td><td>2003</td><td>LG Computer</td><td>4500000</td></tr>\n",
       "<tr><td>5</td><td>유코드제로</td><td>여</td><td>20021029</td><td>1603665955</td><td>5</td><td>2004</td><td>LG Gram</td><td>3500000</td></tr>\n",
       "<tr><td>5</td><td>유코드제로</td><td>여</td><td>20021029</td><td>1603666155</td><td>5</td><td>2004</td><td>LG TV</td><td>2500000</td></tr>\n",
       "<tr><td>1</td><td>정휘센</td><td>남</td><td>19700808</td><td>1603651550</td><td>1</td><td>2000</td><td>LG DIOS</td><td>2000000</td></tr>\n",
       "<tr><td>1</td><td>정휘센</td><td>남</td><td>19700808</td><td>1603694755</td><td>1</td><td>2000</td><td>LG Gram</td><td>1800000</td></tr>\n",
       "<tr><td>2</td><td>김싸이언</td><td>남</td><td>19710201</td><td>1603673500</td><td>2</td><td>2001</td><td>LG Cyon</td><td>1400000</td></tr>\n",
       "<tr><td>3</td><td>박트롬</td><td>여</td><td>19951030</td><td>1603652155</td><td>3</td><td>2002</td><td>LG TV</td><td>1000000</td></tr>\n",
       "<tr><td>null</td><td>null</td><td>null</td><td>null</td><td>1603651550</td><td>0</td><td>1000</td><td>GoldStar TV</td><td>100000</td></tr>\n",
       "<tr><td>9</td><td>최컴퓨터</td><td>남</td><td>20201124</td><td>null</td><td>null</td><td>null</td><td>null</td><td>null</td></tr>\n",
       "<tr><td>8</td><td>조노트북</td><td>여</td><td>20161201</td><td>null</td><td>null</td><td>null</td><td>null</td><td>null</td></tr>\n",
       "<tr><td>7</td><td>임모바일</td><td>남</td><td>20040807</td><td>null</td><td>null</td><td>null</td><td>null</td><td>null</td></tr>\n",
       "<tr><td>6</td><td>윤디오스</td><td>남</td><td>20040101</td><td>null</td><td>null</td><td>null</td><td>null</td><td>null</td></tr>\n",
       "</table>\n"
      ],
      "text/plain": [
       "+----+----------+--------+--------+----------+-----+----+-----------+--------+\n",
       "|u_id|    u_name|u_gender|u_signup|    p_time|p_uid|p_id|     p_name|p_amount|\n",
       "+----+----------+--------+--------+----------+-----+----+-----------+--------+\n",
       "|   4|    청소기|      남|19770329|1603674500|    4|2003|LG Computer| 4500000|\n",
       "|   5|유코드제로|      여|20021029|1603665955|    5|2004|    LG Gram| 3500000|\n",
       "|   5|유코드제로|      여|20021029|1603666155|    5|2004|      LG TV| 2500000|\n",
       "|   1|    정휘센|      남|19700808|1603651550|    1|2000|    LG DIOS| 2000000|\n",
       "|   1|    정휘센|      남|19700808|1603694755|    1|2000|    LG Gram| 1800000|\n",
       "|   2|  김싸이언|      남|19710201|1603673500|    2|2001|    LG Cyon| 1400000|\n",
       "|   3|    박트롬|      여|19951030|1603652155|    3|2002|      LG TV| 1000000|\n",
       "|null|      null|    null|    null|1603651550|    0|1000|GoldStar TV|  100000|\n",
       "|   9|  최컴퓨터|      남|20201124|      null| null|null|       null|    null|\n",
       "|   8|  조노트북|      여|20161201|      null| null|null|       null|    null|\n",
       "|   7|  임모바일|      남|20040807|      null| null|null|       null|    null|\n",
       "|   6|  윤디오스|      남|20040101|      null| null|null|       null|    null|\n",
       "+----+----------+--------+--------+----------+-----+----+-----------+--------+"
      ]
     },
     "metadata": {},
     "output_type": "display_data"
    }
   ],
   "source": [
    "# 여기에 실습 코드를 작성하고 실행하세요 (Shift+Enter)\n"
   ]
  },
  {
   "cell_type": "markdown",
   "metadata": {},
   "source": [
    "### <font color=green>6. [기본]</font> 아래의 조인 연산 결과에서 null 값에 대한 치환을 해주세요\n",
    "#### 1. 고객아이디(u_id)와 고객이름(u_name), 성별(u_gender), 가입일자(u_signup) 기본값을 채워주세요\n",
    "##### u_id = 0, u_name = '미확인', u_gender = '미확인', u_signup = '19700101'\n",
    "\n",
    "<details><summary>[실습6] 출력 결과 확인 </summary>\n",
    "\n",
    "> 아래와 유사하게 방식으로 작성 되었다면 정답입니다\n",
    "\n",
    "```python\n",
    "left = (\n",
    "    spark.read.format(\"csv\")\n",
    "    .option(\"header\", \"true\")\n",
    "    .option(\"inferSchema\", \"true\")\n",
    "    .load(\"data/tbl_purchase.csv\")\n",
    ")\n",
    "left.printSchema()\n",
    "# left.show()\n",
    "\n",
    "right = (\n",
    "    spark.read.format(\"csv\")\n",
    "    .option(\"header\", \"true\")\n",
    "    .option(\"inferSchema\", \"true\")\n",
    "    .load(\"data/tbl_user.csv\")\n",
    ")\n",
    "right.printSchema()\n",
    "# right.show()\n",
    "\n",
    "join_codition = left.p_uid == right.u_id\n",
    "user_fill = { \"u_id\":0, \"u_name\":\"미확인\", \"u_gender\":\"미확인\", \"u_signup\":\"19700101\" }\n",
    "answer = left.join(right, join_codition, \"left_outer\").na.fill(user_fill)\n",
    "answer.printSchema()\n",
    "display(answer.orderBy(asc(\"u_signup\")))\n",
    "```\n",
    "\n",
    "</details>\n"
   ]
  },
  {
   "cell_type": "code",
   "execution_count": 6,
   "metadata": {},
   "outputs": [
    {
     "name": "stdout",
     "output_type": "stream",
     "text": [
      "root\n",
      " |-- u_id: integer (nullable = true)\n",
      " |-- u_name: string (nullable = true)\n",
      " |-- u_gender: string (nullable = true)\n",
      " |-- u_signup: integer (nullable = true)\n",
      " |-- p_time: integer (nullable = true)\n",
      " |-- p_uid: integer (nullable = true)\n",
      " |-- p_id: integer (nullable = true)\n",
      " |-- p_name: string (nullable = true)\n",
      " |-- p_amount: integer (nullable = true)\n",
      "\n"
     ]
    },
    {
     "data": {
      "text/html": [
       "<table border='1'>\n",
       "<tr><th>u_id</th><th>u_name</th><th>u_gender</th><th>u_signup</th><th>p_time</th><th>p_uid</th><th>p_id</th><th>p_name</th><th>p_amount</th></tr>\n",
       "<tr><td>1</td><td>정휘센</td><td>남</td><td>19700808</td><td>1603651550</td><td>1</td><td>2000</td><td>LG DIOS</td><td>2000000</td></tr>\n",
       "<tr><td>1</td><td>정휘센</td><td>남</td><td>19700808</td><td>1603694755</td><td>1</td><td>2001</td><td>LG Gram</td><td>1800000</td></tr>\n",
       "<tr><td>6</td><td>윤디오스</td><td>남</td><td>20040101</td><td>null</td><td>null</td><td>null</td><td>null</td><td>null</td></tr>\n",
       "<tr><td>3</td><td>박트롬</td><td>여</td><td>19951030</td><td>1603652155</td><td>3</td><td>2003</td><td>LG TV</td><td>1000000</td></tr>\n",
       "<tr><td>5</td><td>유코드제로</td><td>여</td><td>20021029</td><td>1603665955</td><td>5</td><td>2001</td><td>LG Gram</td><td>3500000</td></tr>\n",
       "<tr><td>5</td><td>유코드제로</td><td>여</td><td>20021029</td><td>1603666155</td><td>5</td><td>2003</td><td>LG TV</td><td>2500000</td></tr>\n",
       "<tr><td>9</td><td>최컴퓨터</td><td>남</td><td>20201124</td><td>null</td><td>null</td><td>null</td><td>null</td><td>null</td></tr>\n",
       "<tr><td>4</td><td>청소기</td><td>남</td><td>19770329</td><td>1603674500</td><td>4</td><td>2004</td><td>LG Computer</td><td>4500000</td></tr>\n",
       "<tr><td>8</td><td>조노트북</td><td>여</td><td>20161201</td><td>null</td><td>null</td><td>null</td><td>null</td><td>null</td></tr>\n",
       "<tr><td>7</td><td>임모바일</td><td>남</td><td>20040807</td><td>null</td><td>null</td><td>null</td><td>null</td><td>null</td></tr>\n",
       "<tr><td>2</td><td>김싸이언</td><td>남</td><td>19710201</td><td>1603673500</td><td>2</td><td>2002</td><td>LG Cyon</td><td>1400000</td></tr>\n",
       "<tr><td>null</td><td>null</td><td>null</td><td>null</td><td>1603651550</td><td>0</td><td>1000</td><td>GoldStar TV</td><td>100000</td></tr>\n",
       "</table>\n"
      ],
      "text/plain": [
       "+----+----------+--------+--------+----------+-----+----+-----------+--------+\n",
       "|u_id|    u_name|u_gender|u_signup|    p_time|p_uid|p_id|     p_name|p_amount|\n",
       "+----+----------+--------+--------+----------+-----+----+-----------+--------+\n",
       "|   1|    정휘센|      남|19700808|1603651550|    1|2000|    LG DIOS| 2000000|\n",
       "|   1|    정휘센|      남|19700808|1603694755|    1|2001|    LG Gram| 1800000|\n",
       "|   6|  윤디오스|      남|20040101|      null| null|null|       null|    null|\n",
       "|   3|    박트롬|      여|19951030|1603652155|    3|2003|      LG TV| 1000000|\n",
       "|   5|유코드제로|      여|20021029|1603665955|    5|2001|    LG Gram| 3500000|\n",
       "|   5|유코드제로|      여|20021029|1603666155|    5|2003|      LG TV| 2500000|\n",
       "|   9|  최컴퓨터|      남|20201124|      null| null|null|       null|    null|\n",
       "|   4|    청소기|      남|19770329|1603674500|    4|2004|LG Computer| 4500000|\n",
       "|   8|  조노트북|      여|20161201|      null| null|null|       null|    null|\n",
       "|   7|  임모바일|      남|20040807|      null| null|null|       null|    null|\n",
       "|   2|  김싸이언|      남|19710201|1603673500|    2|2002|    LG Cyon| 1400000|\n",
       "|null|      null|    null|    null|1603651550|    0|1000|GoldStar TV|  100000|\n",
       "+----+----------+--------+--------+----------+-----+----+-----------+--------+"
      ]
     },
     "metadata": {},
     "output_type": "display_data"
    }
   ],
   "source": [
    "# 여기에 실습 코드를 작성하고 실행하세요 (Shift+Enter)\n",
    "left = (\n",
    "    spark.read.format(\"csv\")\n",
    "    .option(\"header\", \"true\")\n",
    "    .option(\"inferSchema\", \"true\")\n",
    "    .load(\"data/tbl_user.csv\")\n",
    ")\n",
    "right = (\n",
    "    spark.read.format(\"csv\")\n",
    "    .option(\"header\", \"true\")\n",
    "    .option(\"inferSchema\", \"true\")\n",
    "    .load(\"data/tbl_purchase.csv\")\n",
    ")\n",
    "join_codition = left.u_id == right.p_uid\n",
    "answer = left.join(right, join_codition, \"full_outer\")\n",
    "answer.printSchema()\n",
    "display(answer)"
   ]
  },
  {
   "cell_type": "markdown",
   "metadata": {},
   "source": [
    "## 4. 조인시 유의할 점\n"
   ]
  },
  {
   "cell_type": "code",
   "execution_count": 8,
   "metadata": {},
   "outputs": [
    {
     "name": "stdout",
     "output_type": "stream",
     "text": [
      "root\n",
      " |-- id: long (nullable = true)\n",
      " |-- name: string (nullable = true)\n",
      " |-- gender: string (nullable = true)\n",
      "\n",
      "+---+--------+------+\n",
      "| id|    name|gender|\n",
      "+---+--------+------+\n",
      "|  1|  정휘센|    남|\n",
      "|  2|김싸이언|    남|\n",
      "|  3|  박트롬|    여|\n",
      "+---+--------+------+\n",
      "\n",
      "root\n",
      " |-- id: long (nullable = true)\n",
      " |-- name: string (nullable = true)\n",
      " |-- amount: long (nullable = true)\n",
      "\n",
      "+---+-----------+-------+\n",
      "| id|       name| amount|\n",
      "+---+-----------+-------+\n",
      "|  2|    LG DIOS|2000000|\n",
      "|  3|    LG Cyon|1800000|\n",
      "|  4|LG Computer|4500000|\n",
      "+---+-----------+-------+\n",
      "\n"
     ]
    }
   ],
   "source": [
    "u = spark.createDataFrame([\n",
    "    (1, \"정휘센\", \"남\"),\n",
    "    (2, \"김싸이언\", \"남\"),\n",
    "    (3, \"박트롬\", \"여\")\n",
    "]).toDF(\"id\", \"name\", \"gender\")\n",
    "u.printSchema()\n",
    "u.show()\n",
    "    \n",
    "p = spark.createDataFrame([\n",
    "    (2, \"LG DIOS\", 2000000),\n",
    "    (3, \"LG Cyon\", 1800000),\n",
    "    (4, \"LG Computer\", 4500000)\n",
    "]).toDF(\"id\", \"name\", \"amount\")\n",
    "p.printSchema()\n",
    "p.show()"
   ]
  },
  {
   "cell_type": "markdown",
   "metadata": {},
   "source": [
    "### 3.1 중복 컬럼명 처리가 되지 않은 경우\n",
    "> #### AnalysisException: \"Reference 'id' is ambiguous, could be: id, id.;\""
   ]
  },
  {
   "cell_type": "code",
   "execution_count": 9,
   "metadata": {},
   "outputs": [
    {
     "name": "stdout",
     "output_type": "stream",
     "text": [
      "+---+--------+------+---+-------+-------+\n",
      "| id|    name|gender| id|   name| amount|\n",
      "+---+--------+------+---+-------+-------+\n",
      "|  3|  박트롬|    여|  3|LG Cyon|1800000|\n",
      "|  2|김싸이언|    남|  2|LG DIOS|2000000|\n",
      "+---+--------+------+---+-------+-------+\n",
      "\n"
     ]
    }
   ],
   "source": [
    "up = u.join(p, u.id == p.id)\n",
    "up.show()\n",
    "# up.select(\"id\")"
   ]
  },
  {
   "cell_type": "markdown",
   "metadata": {},
   "source": [
    "### 3.2 중복 컬럼명 해결방안 - 데이터 프레임의 컬럼 명을 다르게 만든다"
   ]
  },
  {
   "cell_type": "code",
   "execution_count": 10,
   "metadata": {},
   "outputs": [
    {
     "name": "stdout",
     "output_type": "stream",
     "text": [
      "root\n",
      " |-- u_uid: long (nullable = true)\n",
      " |-- name: string (nullable = true)\n",
      " |-- gender: string (nullable = true)\n",
      "\n",
      "root\n",
      " |-- p_uid: long (nullable = true)\n",
      " |-- name: string (nullable = true)\n",
      " |-- amount: long (nullable = true)\n",
      "\n",
      "+-----+--------+------+-----+-------+-------+\n",
      "|u_uid|    name|gender|p_uid|   name| amount|\n",
      "+-----+--------+------+-----+-------+-------+\n",
      "|    3|  박트롬|    여|    3|LG Cyon|1800000|\n",
      "|    2|김싸이언|    남|    2|LG DIOS|2000000|\n",
      "+-----+--------+------+-----+-------+-------+\n",
      "\n"
     ]
    },
    {
     "data": {
      "text/plain": [
       "DataFrame[u_uid: bigint]"
      ]
     },
     "execution_count": 10,
     "metadata": {},
     "output_type": "execute_result"
    }
   ],
   "source": [
    "u1 = u.withColumnRenamed(\"id\", \"u_uid\")\n",
    "p1 = p.withColumnRenamed(\"id\", \"p_uid\")\n",
    "u1.printSchema()\n",
    "p1.printSchema()\n",
    "\n",
    "up = u1.join(p1, u1.u_uid == p1.p_uid)\n",
    "up.show()\n",
    "up.select(\"u_uid\")"
   ]
  },
  {
   "cell_type": "markdown",
   "metadata": {},
   "source": [
    "### 3.3 중복 컬럼명 해결방안 - 조인 직후 중복 컬럼을 제거합니다"
   ]
  },
  {
   "cell_type": "code",
   "execution_count": 11,
   "metadata": {},
   "outputs": [
    {
     "name": "stdout",
     "output_type": "stream",
     "text": [
      "+---+--------+------+-------+-------+\n",
      "| id|    name|gender|   name| amount|\n",
      "+---+--------+------+-------+-------+\n",
      "|  3|  박트롬|    여|LG Cyon|1800000|\n",
      "|  2|김싸이언|    남|LG DIOS|2000000|\n",
      "+---+--------+------+-------+-------+\n",
      "\n"
     ]
    },
    {
     "data": {
      "text/plain": [
       "DataFrame[id: bigint]"
      ]
     },
     "execution_count": 11,
     "metadata": {},
     "output_type": "execute_result"
    }
   ],
   "source": [
    "up = u.join(p, u.id == p.id).drop(p.id)\n",
    "up.show()\n",
    "up.select(\"id\")"
   ]
  },
  {
   "cell_type": "markdown",
   "metadata": {},
   "source": [
    "### <font color=red>7. [고급]</font> 고객 정보 \"data/tbl_user_id\", 제품 정보 \"data/tbl_purchase_id\" CSV 파일을 읽고\n",
    "#### 1. *고객(tbl_user) 테이블의 아이디도 id 이고 제품(tbl_purchase) 테이블의 아이디도 id 입니다*\n",
    "#### 2. 가장 비싼 제품을 구매한 고객의 고객정보와 제품정보를 출력해 주세요\n",
    "#### 3. 최종 출력되는 컬럼은 고객아이디(u_id), 고객이름(u_name), 상품이름(p_name), 상품가격(p_amount) 이렇게 4개 컬럼입니다\n",
    "#### 4. 상품가격 (p_amount) 내림차순으로 정렬되어야 합니다\n",
    "\n",
    "<details><summary>[실습7] 출력 결과 확인 </summary>\n",
    "\n",
    "> 아래와 유사하게 방식으로 작성 되었다면 정답입니다\n",
    "\n",
    "```python\n",
    "left = (\n",
    "    spark.read.format(\"csv\")\n",
    "    .option(\"header\", \"true\")\n",
    "    .option(\"inferSchema\", \"true\")\n",
    "    .load(\"data/tbl_purchase_id.csv\")\n",
    ")\n",
    "# left.printSchema()\n",
    "# left.show()\n",
    "\n",
    "right = (\n",
    "    spark.read.format(\"csv\")\n",
    "    .option(\"header\", \"true\")\n",
    "    .option(\"inferSchema\", \"true\")\n",
    "    .load(\"data/tbl_user_id.csv\")\n",
    ")\n",
    "# right.printSchema()\n",
    "# right.show()\n",
    "\n",
    "u_left = left.withColumnRenamed(\"id\", \"u_id\")\n",
    "u_right = right.withColumnRenamed(\"id\", \"p_uid\")\n",
    "u_left.printSchema()\n",
    "u_right.printSchema()\n",
    "\n",
    "join_codition = u_left.u_id == u_right.p_uid\n",
    "answer = u_left.join(u_right, join_codition, \"inner\").where(\"p_amount > 0\").select(\"u_id\", \"u_name\", \"p_name\", \"p_amount\")\n",
    "answer.printSchema()\n",
    "display(answer.orderBy(desc(\"p_amount\")))\n",
    "```\n",
    "\n",
    "</details>\n"
   ]
  },
  {
   "cell_type": "code",
   "execution_count": 35,
   "metadata": {},
   "outputs": [
    {
     "name": "stdout",
     "output_type": "stream",
     "text": [
      "root\n",
      " |-- p_time: integer (nullable = true)\n",
      " |-- u_id: integer (nullable = true)\n",
      " |-- p_id: integer (nullable = true)\n",
      " |-- p_name: string (nullable = true)\n",
      " |-- p_amount: integer (nullable = true)\n",
      "\n",
      "root\n",
      " |-- p_uid: integer (nullable = true)\n",
      " |-- u_name: string (nullable = true)\n",
      " |-- u_gender: string (nullable = true)\n",
      " |-- u_signup: integer (nullable = true)\n",
      "\n",
      "root\n",
      " |-- u_id: integer (nullable = true)\n",
      " |-- u_name: string (nullable = true)\n",
      " |-- p_name: string (nullable = true)\n",
      " |-- p_amount: integer (nullable = true)\n",
      "\n"
     ]
    },
    {
     "data": {
      "text/html": [
       "<table border='1'>\n",
       "<tr><th>u_id</th><th>u_name</th><th>p_name</th><th>p_amount</th></tr>\n",
       "<tr><td>4</td><td>청소기</td><td>LG Computer</td><td>4500000</td></tr>\n",
       "<tr><td>5</td><td>유코드제로</td><td>LG Gram</td><td>3500000</td></tr>\n",
       "<tr><td>5</td><td>유코드제로</td><td>LG TV</td><td>2500000</td></tr>\n",
       "<tr><td>1</td><td>정휘센</td><td>LG DIOS</td><td>2000000</td></tr>\n",
       "<tr><td>1</td><td>정휘센</td><td>LG Gram</td><td>1800000</td></tr>\n",
       "<tr><td>2</td><td>김싸이언</td><td>LG Cyon</td><td>1400000</td></tr>\n",
       "<tr><td>3</td><td>박트롬</td><td>LG TV</td><td>1000000</td></tr>\n",
       "</table>\n"
      ],
      "text/plain": [
       "+----+----------+-----------+--------+\n",
       "|u_id|    u_name|     p_name|p_amount|\n",
       "+----+----------+-----------+--------+\n",
       "|   4|    청소기|LG Computer| 4500000|\n",
       "|   5|유코드제로|    LG Gram| 3500000|\n",
       "|   5|유코드제로|      LG TV| 2500000|\n",
       "|   1|    정휘센|    LG DIOS| 2000000|\n",
       "|   1|    정휘센|    LG Gram| 1800000|\n",
       "|   2|  김싸이언|    LG Cyon| 1400000|\n",
       "|   3|    박트롬|      LG TV| 1000000|\n",
       "+----+----------+-----------+--------+"
      ]
     },
     "metadata": {},
     "output_type": "display_data"
    }
   ],
   "source": [
    "# 여기에 실습 코드를 작성하고 실행하세요 (Shift+Enter)\n"
   ]
  },
  {
   "cell_type": "markdown",
   "metadata": {},
   "source": [
    "## 참고자료\n",
    "\n",
    "#### 1. [Spark Programming Guide](https://spark.apache.org/docs/latest/sql-programming-guide.html)\n",
    "#### 2. [PySpark SQL Modules Documentation](https://spark.apache.org/docs/latest/api/python/pyspark.sql.html)\n",
    "#### 3. <a href=\"https://spark.apache.org/docs/3.0.1/api/sql/\" target=\"_blank\">PySpark 3.0.1 Builtin Functions</a>\n",
    "#### 4. [PySpark Search](https://spark.apache.org/docs/latest/api/python/search.html)\n",
    "#### 5. [Pyspark Functions](https://spark.apache.org/docs/latest/api/python/pyspark.sql.html?#module-pyspark.sql.functions)"
   ]
  },
  {
   "cell_type": "code",
   "execution_count": null,
   "metadata": {},
   "outputs": [],
   "source": []
  }
 ],
 "metadata": {
  "kernelspec": {
   "display_name": "Python 3",
   "language": "python",
   "name": "python3"
  },
  "language_info": {
   "codemirror_mode": {
    "name": "ipython",
    "version": 3
   },
   "file_extension": ".py",
   "mimetype": "text/x-python",
   "name": "python",
   "nbconvert_exporter": "python",
   "pygments_lexer": "ipython3",
   "version": "3.8.6"
  }
 },
 "nbformat": 4,
 "nbformat_minor": 4
}
